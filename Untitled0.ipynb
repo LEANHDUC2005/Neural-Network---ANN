{
  "nbformat": 4,
  "nbformat_minor": 0,
  "metadata": {
    "colab": {
      "provenance": [],
      "gpuType": "T4",
      "authorship_tag": "ABX9TyOqBsR9uiGygu4KftKQftVr",
      "include_colab_link": true
    },
    "kernelspec": {
      "name": "python3",
      "display_name": "Python 3"
    },
    "language_info": {
      "name": "python"
    },
    "accelerator": "GPU"
  },
  "cells": [
    {
      "cell_type": "markdown",
      "metadata": {
        "id": "view-in-github",
        "colab_type": "text"
      },
      "source": [
        "<a href=\"https://colab.research.google.com/github/LEANHDUC2005/Neural-Network---ANN/blob/main/Untitled0.ipynb\" target=\"_parent\"><img src=\"https://colab.research.google.com/assets/colab-badge.svg\" alt=\"Open In Colab\"/></a>"
      ]
    },
    {
      "cell_type": "code",
      "execution_count": null,
      "metadata": {
        "id": "QNK01J8t0Tjf"
      },
      "outputs": [],
      "source": []
    },
    {
      "cell_type": "code",
      "source": [
        "!pip install librosa\n",
        "!pip install torchaudio # install torchaudio"
      ],
      "metadata": {
        "colab": {
          "base_uri": "https://localhost:8080/"
        },
        "collapsed": true,
        "id": "7EXQ3FBd4MHV",
        "outputId": "de9857d5-27b7-4cf2-8ace-a3695256ecb9"
      },
      "execution_count": 1,
      "outputs": [
        {
          "output_type": "stream",
          "name": "stdout",
          "text": [
            "Requirement already satisfied: librosa in /usr/local/lib/python3.11/dist-packages (0.11.0)\n",
            "Requirement already satisfied: audioread>=2.1.9 in /usr/local/lib/python3.11/dist-packages (from librosa) (3.0.1)\n",
            "Requirement already satisfied: numba>=0.51.0 in /usr/local/lib/python3.11/dist-packages (from librosa) (0.60.0)\n",
            "Requirement already satisfied: numpy>=1.22.3 in /usr/local/lib/python3.11/dist-packages (from librosa) (2.0.2)\n",
            "Requirement already satisfied: scipy>=1.6.0 in /usr/local/lib/python3.11/dist-packages (from librosa) (1.15.2)\n",
            "Requirement already satisfied: scikit-learn>=1.1.0 in /usr/local/lib/python3.11/dist-packages (from librosa) (1.6.1)\n",
            "Requirement already satisfied: joblib>=1.0 in /usr/local/lib/python3.11/dist-packages (from librosa) (1.4.2)\n",
            "Requirement already satisfied: decorator>=4.3.0 in /usr/local/lib/python3.11/dist-packages (from librosa) (4.4.2)\n",
            "Requirement already satisfied: soundfile>=0.12.1 in /usr/local/lib/python3.11/dist-packages (from librosa) (0.13.1)\n",
            "Requirement already satisfied: pooch>=1.1 in /usr/local/lib/python3.11/dist-packages (from librosa) (1.8.2)\n",
            "Requirement already satisfied: soxr>=0.3.2 in /usr/local/lib/python3.11/dist-packages (from librosa) (0.5.0.post1)\n",
            "Requirement already satisfied: typing_extensions>=4.1.1 in /usr/local/lib/python3.11/dist-packages (from librosa) (4.13.2)\n",
            "Requirement already satisfied: lazy_loader>=0.1 in /usr/local/lib/python3.11/dist-packages (from librosa) (0.4)\n",
            "Requirement already satisfied: msgpack>=1.0 in /usr/local/lib/python3.11/dist-packages (from librosa) (1.1.0)\n",
            "Requirement already satisfied: packaging in /usr/local/lib/python3.11/dist-packages (from lazy_loader>=0.1->librosa) (24.2)\n",
            "Requirement already satisfied: llvmlite<0.44,>=0.43.0dev0 in /usr/local/lib/python3.11/dist-packages (from numba>=0.51.0->librosa) (0.43.0)\n",
            "Requirement already satisfied: platformdirs>=2.5.0 in /usr/local/lib/python3.11/dist-packages (from pooch>=1.1->librosa) (4.3.7)\n",
            "Requirement already satisfied: requests>=2.19.0 in /usr/local/lib/python3.11/dist-packages (from pooch>=1.1->librosa) (2.32.3)\n",
            "Requirement already satisfied: threadpoolctl>=3.1.0 in /usr/local/lib/python3.11/dist-packages (from scikit-learn>=1.1.0->librosa) (3.6.0)\n",
            "Requirement already satisfied: cffi>=1.0 in /usr/local/lib/python3.11/dist-packages (from soundfile>=0.12.1->librosa) (1.17.1)\n",
            "Requirement already satisfied: pycparser in /usr/local/lib/python3.11/dist-packages (from cffi>=1.0->soundfile>=0.12.1->librosa) (2.22)\n",
            "Requirement already satisfied: charset-normalizer<4,>=2 in /usr/local/lib/python3.11/dist-packages (from requests>=2.19.0->pooch>=1.1->librosa) (3.4.1)\n",
            "Requirement already satisfied: idna<4,>=2.5 in /usr/local/lib/python3.11/dist-packages (from requests>=2.19.0->pooch>=1.1->librosa) (3.10)\n",
            "Requirement already satisfied: urllib3<3,>=1.21.1 in /usr/local/lib/python3.11/dist-packages (from requests>=2.19.0->pooch>=1.1->librosa) (2.4.0)\n",
            "Requirement already satisfied: certifi>=2017.4.17 in /usr/local/lib/python3.11/dist-packages (from requests>=2.19.0->pooch>=1.1->librosa) (2025.4.26)\n",
            "Requirement already satisfied: torchaudio in /usr/local/lib/python3.11/dist-packages (2.6.0+cu124)\n",
            "Requirement already satisfied: torch==2.6.0 in /usr/local/lib/python3.11/dist-packages (from torchaudio) (2.6.0+cu124)\n",
            "Requirement already satisfied: filelock in /usr/local/lib/python3.11/dist-packages (from torch==2.6.0->torchaudio) (3.18.0)\n",
            "Requirement already satisfied: typing-extensions>=4.10.0 in /usr/local/lib/python3.11/dist-packages (from torch==2.6.0->torchaudio) (4.13.2)\n",
            "Requirement already satisfied: networkx in /usr/local/lib/python3.11/dist-packages (from torch==2.6.0->torchaudio) (3.4.2)\n",
            "Requirement already satisfied: jinja2 in /usr/local/lib/python3.11/dist-packages (from torch==2.6.0->torchaudio) (3.1.6)\n",
            "Requirement already satisfied: fsspec in /usr/local/lib/python3.11/dist-packages (from torch==2.6.0->torchaudio) (2025.3.2)\n",
            "Requirement already satisfied: nvidia-cuda-nvrtc-cu12==12.4.127 in /usr/local/lib/python3.11/dist-packages (from torch==2.6.0->torchaudio) (12.4.127)\n",
            "Requirement already satisfied: nvidia-cuda-runtime-cu12==12.4.127 in /usr/local/lib/python3.11/dist-packages (from torch==2.6.0->torchaudio) (12.4.127)\n",
            "Requirement already satisfied: nvidia-cuda-cupti-cu12==12.4.127 in /usr/local/lib/python3.11/dist-packages (from torch==2.6.0->torchaudio) (12.4.127)\n",
            "Requirement already satisfied: nvidia-cudnn-cu12==9.1.0.70 in /usr/local/lib/python3.11/dist-packages (from torch==2.6.0->torchaudio) (9.1.0.70)\n",
            "Requirement already satisfied: nvidia-cublas-cu12==12.4.5.8 in /usr/local/lib/python3.11/dist-packages (from torch==2.6.0->torchaudio) (12.4.5.8)\n",
            "Requirement already satisfied: nvidia-cufft-cu12==11.2.1.3 in /usr/local/lib/python3.11/dist-packages (from torch==2.6.0->torchaudio) (11.2.1.3)\n",
            "Requirement already satisfied: nvidia-curand-cu12==10.3.5.147 in /usr/local/lib/python3.11/dist-packages (from torch==2.6.0->torchaudio) (10.3.5.147)\n",
            "Requirement already satisfied: nvidia-cusolver-cu12==11.6.1.9 in /usr/local/lib/python3.11/dist-packages (from torch==2.6.0->torchaudio) (11.6.1.9)\n",
            "Requirement already satisfied: nvidia-cusparse-cu12==12.3.1.170 in /usr/local/lib/python3.11/dist-packages (from torch==2.6.0->torchaudio) (12.3.1.170)\n",
            "Requirement already satisfied: nvidia-cusparselt-cu12==0.6.2 in /usr/local/lib/python3.11/dist-packages (from torch==2.6.0->torchaudio) (0.6.2)\n",
            "Requirement already satisfied: nvidia-nccl-cu12==2.21.5 in /usr/local/lib/python3.11/dist-packages (from torch==2.6.0->torchaudio) (2.21.5)\n",
            "Requirement already satisfied: nvidia-nvtx-cu12==12.4.127 in /usr/local/lib/python3.11/dist-packages (from torch==2.6.0->torchaudio) (12.4.127)\n",
            "Requirement already satisfied: nvidia-nvjitlink-cu12==12.4.127 in /usr/local/lib/python3.11/dist-packages (from torch==2.6.0->torchaudio) (12.4.127)\n",
            "Requirement already satisfied: triton==3.2.0 in /usr/local/lib/python3.11/dist-packages (from torch==2.6.0->torchaudio) (3.2.0)\n",
            "Requirement already satisfied: sympy==1.13.1 in /usr/local/lib/python3.11/dist-packages (from torch==2.6.0->torchaudio) (1.13.1)\n",
            "Requirement already satisfied: mpmath<1.4,>=1.1.0 in /usr/local/lib/python3.11/dist-packages (from sympy==1.13.1->torch==2.6.0->torchaudio) (1.3.0)\n",
            "Requirement already satisfied: MarkupSafe>=2.0 in /usr/local/lib/python3.11/dist-packages (from jinja2->torch==2.6.0->torchaudio) (3.0.2)\n"
          ]
        }
      ]
    },
    {
      "cell_type": "code",
      "execution_count": 6,
      "metadata": {
        "id": "J1wgN3vZxVvp"
      },
      "outputs": [],
      "source": [
        "import os\n",
        "import tarfile\n",
        "import urllib.request\n",
        "\n",
        "# Đường dẫn lưu dữ liệu\n",
        "data_dir = \"/content/drive/MyDrive/TTS_Project/data\"\n",
        "os.makedirs(data_dir, exist_ok=True)\n",
        "\n",
        "# URL của bộ dữ liệu LJSpeech-1.1\n",
        "url = \"https://data.keithito.com/data/speech/LJSpeech-1.1.tar.bz2\"\n",
        "filename = os.path.join(data_dir, \"LJSpeech-1.1.tar.bz2\")\n",
        "\n"
      ]
    },
    {
      "cell_type": "code",
      "source": [
        "# Tải dữ liệu nếu chưa có\n",
        "if not os.path.exists(filename):\n",
        "    print(\"Đang tải LJSpeech-1.1...\")\n",
        "    urllib.request.urlretrieve(url, filename)\n",
        "    print(\"Tải xong.\")\n"
      ],
      "metadata": {
        "id": "_D9deNE98e2m"
      },
      "execution_count": null,
      "outputs": []
    },
    {
      "cell_type": "code",
      "source": [
        "\n",
        "# Giải nén dữ liệu\n",
        "extract_path = os.path.join(data_dir, \"LJSpeech-1.1\")\n",
        "if not os.path.exists(extract_path):\n",
        "    print(\"Đang giải nén dữ liệu...\")\n",
        "    with tarfile.open(filename, \"r:bz2\") as tar:\n",
        "        tar.extractall(path=data_dir)\n",
        "    print(\"Giải nén xong.\")\n",
        "else:\n",
        "    print(\"Dữ liệu đã được giải nén.\")\n"
      ],
      "metadata": {
        "colab": {
          "base_uri": "https://localhost:8080/"
        },
        "id": "JW7y_xHe8ZsK",
        "outputId": "5be9bcc3-74dd-4308-d952-fb77f1992d2b"
      },
      "execution_count": 7,
      "outputs": [
        {
          "output_type": "stream",
          "name": "stdout",
          "text": [
            "Dữ liệu đã được giải nén.\n"
          ]
        }
      ]
    },
    {
      "cell_type": "code",
      "source": [
        "import pandas as pd\n",
        "import os\n",
        "# Đường dẫn đến file metadata\n",
        "metadata_path = os.path.join(extract_path, \"metadata.csv\")\n",
        "\n",
        "# Đọc metadata\n",
        "metadata = pd.read_csv(metadata_path, sep=\"|\", header=None, names=[\"id\", \"text\", \"normalized_text\"])\n",
        "\n",
        "# Thêm cột đường dẫn đến file âm thanh\n",
        "metadata[\"audio_path\"] = metadata[\"id\"].apply(lambda x: os.path.join(extract_path, \"wavs\", f\"{x}.wav\"))\n",
        "\n",
        "# Hiển thị 5 dòng đầu tiên\n",
        "metadata.head()\n"
      ],
      "metadata": {
        "colab": {
          "base_uri": "https://localhost:8080/",
          "height": 293
        },
        "id": "8njIMepn1YGb",
        "outputId": "726fb24a-e891-4225-cf5c-2c01d1dcc654"
      },
      "execution_count": 8,
      "outputs": [
        {
          "output_type": "execute_result",
          "data": {
            "text/plain": [
              "           id                                               text  \\\n",
              "0  LJ001-0001  Printing, in the only sense with which we are ...   \n",
              "1  LJ001-0002                     in being comparatively modern.   \n",
              "2  LJ001-0003  For although the Chinese took impressions from...   \n",
              "3  LJ001-0004  produced the block books, which were the immed...   \n",
              "4  LJ001-0005  the invention of movable metal letters in the ...   \n",
              "\n",
              "                                     normalized_text  \\\n",
              "0  Printing, in the only sense with which we are ...   \n",
              "1                     in being comparatively modern.   \n",
              "2  For although the Chinese took impressions from...   \n",
              "3  produced the block books, which were the immed...   \n",
              "4  the invention of movable metal letters in the ...   \n",
              "\n",
              "                                          audio_path  \n",
              "0  /content/drive/MyDrive/TTS_Project/data/LJSpee...  \n",
              "1  /content/drive/MyDrive/TTS_Project/data/LJSpee...  \n",
              "2  /content/drive/MyDrive/TTS_Project/data/LJSpee...  \n",
              "3  /content/drive/MyDrive/TTS_Project/data/LJSpee...  \n",
              "4  /content/drive/MyDrive/TTS_Project/data/LJSpee...  "
            ],
            "text/html": [
              "\n",
              "  <div id=\"df-09559d4c-28e8-4ef3-98bf-76f4cc947628\" class=\"colab-df-container\">\n",
              "    <div>\n",
              "<style scoped>\n",
              "    .dataframe tbody tr th:only-of-type {\n",
              "        vertical-align: middle;\n",
              "    }\n",
              "\n",
              "    .dataframe tbody tr th {\n",
              "        vertical-align: top;\n",
              "    }\n",
              "\n",
              "    .dataframe thead th {\n",
              "        text-align: right;\n",
              "    }\n",
              "</style>\n",
              "<table border=\"1\" class=\"dataframe\">\n",
              "  <thead>\n",
              "    <tr style=\"text-align: right;\">\n",
              "      <th></th>\n",
              "      <th>id</th>\n",
              "      <th>text</th>\n",
              "      <th>normalized_text</th>\n",
              "      <th>audio_path</th>\n",
              "    </tr>\n",
              "  </thead>\n",
              "  <tbody>\n",
              "    <tr>\n",
              "      <th>0</th>\n",
              "      <td>LJ001-0001</td>\n",
              "      <td>Printing, in the only sense with which we are ...</td>\n",
              "      <td>Printing, in the only sense with which we are ...</td>\n",
              "      <td>/content/drive/MyDrive/TTS_Project/data/LJSpee...</td>\n",
              "    </tr>\n",
              "    <tr>\n",
              "      <th>1</th>\n",
              "      <td>LJ001-0002</td>\n",
              "      <td>in being comparatively modern.</td>\n",
              "      <td>in being comparatively modern.</td>\n",
              "      <td>/content/drive/MyDrive/TTS_Project/data/LJSpee...</td>\n",
              "    </tr>\n",
              "    <tr>\n",
              "      <th>2</th>\n",
              "      <td>LJ001-0003</td>\n",
              "      <td>For although the Chinese took impressions from...</td>\n",
              "      <td>For although the Chinese took impressions from...</td>\n",
              "      <td>/content/drive/MyDrive/TTS_Project/data/LJSpee...</td>\n",
              "    </tr>\n",
              "    <tr>\n",
              "      <th>3</th>\n",
              "      <td>LJ001-0004</td>\n",
              "      <td>produced the block books, which were the immed...</td>\n",
              "      <td>produced the block books, which were the immed...</td>\n",
              "      <td>/content/drive/MyDrive/TTS_Project/data/LJSpee...</td>\n",
              "    </tr>\n",
              "    <tr>\n",
              "      <th>4</th>\n",
              "      <td>LJ001-0005</td>\n",
              "      <td>the invention of movable metal letters in the ...</td>\n",
              "      <td>the invention of movable metal letters in the ...</td>\n",
              "      <td>/content/drive/MyDrive/TTS_Project/data/LJSpee...</td>\n",
              "    </tr>\n",
              "  </tbody>\n",
              "</table>\n",
              "</div>\n",
              "    <div class=\"colab-df-buttons\">\n",
              "\n",
              "  <div class=\"colab-df-container\">\n",
              "    <button class=\"colab-df-convert\" onclick=\"convertToInteractive('df-09559d4c-28e8-4ef3-98bf-76f4cc947628')\"\n",
              "            title=\"Convert this dataframe to an interactive table.\"\n",
              "            style=\"display:none;\">\n",
              "\n",
              "  <svg xmlns=\"http://www.w3.org/2000/svg\" height=\"24px\" viewBox=\"0 -960 960 960\">\n",
              "    <path d=\"M120-120v-720h720v720H120Zm60-500h600v-160H180v160Zm220 220h160v-160H400v160Zm0 220h160v-160H400v160ZM180-400h160v-160H180v160Zm440 0h160v-160H620v160ZM180-180h160v-160H180v160Zm440 0h160v-160H620v160Z\"/>\n",
              "  </svg>\n",
              "    </button>\n",
              "\n",
              "  <style>\n",
              "    .colab-df-container {\n",
              "      display:flex;\n",
              "      gap: 12px;\n",
              "    }\n",
              "\n",
              "    .colab-df-convert {\n",
              "      background-color: #E8F0FE;\n",
              "      border: none;\n",
              "      border-radius: 50%;\n",
              "      cursor: pointer;\n",
              "      display: none;\n",
              "      fill: #1967D2;\n",
              "      height: 32px;\n",
              "      padding: 0 0 0 0;\n",
              "      width: 32px;\n",
              "    }\n",
              "\n",
              "    .colab-df-convert:hover {\n",
              "      background-color: #E2EBFA;\n",
              "      box-shadow: 0px 1px 2px rgba(60, 64, 67, 0.3), 0px 1px 3px 1px rgba(60, 64, 67, 0.15);\n",
              "      fill: #174EA6;\n",
              "    }\n",
              "\n",
              "    .colab-df-buttons div {\n",
              "      margin-bottom: 4px;\n",
              "    }\n",
              "\n",
              "    [theme=dark] .colab-df-convert {\n",
              "      background-color: #3B4455;\n",
              "      fill: #D2E3FC;\n",
              "    }\n",
              "\n",
              "    [theme=dark] .colab-df-convert:hover {\n",
              "      background-color: #434B5C;\n",
              "      box-shadow: 0px 1px 3px 1px rgba(0, 0, 0, 0.15);\n",
              "      filter: drop-shadow(0px 1px 2px rgba(0, 0, 0, 0.3));\n",
              "      fill: #FFFFFF;\n",
              "    }\n",
              "  </style>\n",
              "\n",
              "    <script>\n",
              "      const buttonEl =\n",
              "        document.querySelector('#df-09559d4c-28e8-4ef3-98bf-76f4cc947628 button.colab-df-convert');\n",
              "      buttonEl.style.display =\n",
              "        google.colab.kernel.accessAllowed ? 'block' : 'none';\n",
              "\n",
              "      async function convertToInteractive(key) {\n",
              "        const element = document.querySelector('#df-09559d4c-28e8-4ef3-98bf-76f4cc947628');\n",
              "        const dataTable =\n",
              "          await google.colab.kernel.invokeFunction('convertToInteractive',\n",
              "                                                    [key], {});\n",
              "        if (!dataTable) return;\n",
              "\n",
              "        const docLinkHtml = 'Like what you see? Visit the ' +\n",
              "          '<a target=\"_blank\" href=https://colab.research.google.com/notebooks/data_table.ipynb>data table notebook</a>'\n",
              "          + ' to learn more about interactive tables.';\n",
              "        element.innerHTML = '';\n",
              "        dataTable['output_type'] = 'display_data';\n",
              "        await google.colab.output.renderOutput(dataTable, element);\n",
              "        const docLink = document.createElement('div');\n",
              "        docLink.innerHTML = docLinkHtml;\n",
              "        element.appendChild(docLink);\n",
              "      }\n",
              "    </script>\n",
              "  </div>\n",
              "\n",
              "\n",
              "    <div id=\"df-afe744ce-cabc-4823-8014-b3d30e88b62b\">\n",
              "      <button class=\"colab-df-quickchart\" onclick=\"quickchart('df-afe744ce-cabc-4823-8014-b3d30e88b62b')\"\n",
              "                title=\"Suggest charts\"\n",
              "                style=\"display:none;\">\n",
              "\n",
              "<svg xmlns=\"http://www.w3.org/2000/svg\" height=\"24px\"viewBox=\"0 0 24 24\"\n",
              "     width=\"24px\">\n",
              "    <g>\n",
              "        <path d=\"M19 3H5c-1.1 0-2 .9-2 2v14c0 1.1.9 2 2 2h14c1.1 0 2-.9 2-2V5c0-1.1-.9-2-2-2zM9 17H7v-7h2v7zm4 0h-2V7h2v10zm4 0h-2v-4h2v4z\"/>\n",
              "    </g>\n",
              "</svg>\n",
              "      </button>\n",
              "\n",
              "<style>\n",
              "  .colab-df-quickchart {\n",
              "      --bg-color: #E8F0FE;\n",
              "      --fill-color: #1967D2;\n",
              "      --hover-bg-color: #E2EBFA;\n",
              "      --hover-fill-color: #174EA6;\n",
              "      --disabled-fill-color: #AAA;\n",
              "      --disabled-bg-color: #DDD;\n",
              "  }\n",
              "\n",
              "  [theme=dark] .colab-df-quickchart {\n",
              "      --bg-color: #3B4455;\n",
              "      --fill-color: #D2E3FC;\n",
              "      --hover-bg-color: #434B5C;\n",
              "      --hover-fill-color: #FFFFFF;\n",
              "      --disabled-bg-color: #3B4455;\n",
              "      --disabled-fill-color: #666;\n",
              "  }\n",
              "\n",
              "  .colab-df-quickchart {\n",
              "    background-color: var(--bg-color);\n",
              "    border: none;\n",
              "    border-radius: 50%;\n",
              "    cursor: pointer;\n",
              "    display: none;\n",
              "    fill: var(--fill-color);\n",
              "    height: 32px;\n",
              "    padding: 0;\n",
              "    width: 32px;\n",
              "  }\n",
              "\n",
              "  .colab-df-quickchart:hover {\n",
              "    background-color: var(--hover-bg-color);\n",
              "    box-shadow: 0 1px 2px rgba(60, 64, 67, 0.3), 0 1px 3px 1px rgba(60, 64, 67, 0.15);\n",
              "    fill: var(--button-hover-fill-color);\n",
              "  }\n",
              "\n",
              "  .colab-df-quickchart-complete:disabled,\n",
              "  .colab-df-quickchart-complete:disabled:hover {\n",
              "    background-color: var(--disabled-bg-color);\n",
              "    fill: var(--disabled-fill-color);\n",
              "    box-shadow: none;\n",
              "  }\n",
              "\n",
              "  .colab-df-spinner {\n",
              "    border: 2px solid var(--fill-color);\n",
              "    border-color: transparent;\n",
              "    border-bottom-color: var(--fill-color);\n",
              "    animation:\n",
              "      spin 1s steps(1) infinite;\n",
              "  }\n",
              "\n",
              "  @keyframes spin {\n",
              "    0% {\n",
              "      border-color: transparent;\n",
              "      border-bottom-color: var(--fill-color);\n",
              "      border-left-color: var(--fill-color);\n",
              "    }\n",
              "    20% {\n",
              "      border-color: transparent;\n",
              "      border-left-color: var(--fill-color);\n",
              "      border-top-color: var(--fill-color);\n",
              "    }\n",
              "    30% {\n",
              "      border-color: transparent;\n",
              "      border-left-color: var(--fill-color);\n",
              "      border-top-color: var(--fill-color);\n",
              "      border-right-color: var(--fill-color);\n",
              "    }\n",
              "    40% {\n",
              "      border-color: transparent;\n",
              "      border-right-color: var(--fill-color);\n",
              "      border-top-color: var(--fill-color);\n",
              "    }\n",
              "    60% {\n",
              "      border-color: transparent;\n",
              "      border-right-color: var(--fill-color);\n",
              "    }\n",
              "    80% {\n",
              "      border-color: transparent;\n",
              "      border-right-color: var(--fill-color);\n",
              "      border-bottom-color: var(--fill-color);\n",
              "    }\n",
              "    90% {\n",
              "      border-color: transparent;\n",
              "      border-bottom-color: var(--fill-color);\n",
              "    }\n",
              "  }\n",
              "</style>\n",
              "\n",
              "      <script>\n",
              "        async function quickchart(key) {\n",
              "          const quickchartButtonEl =\n",
              "            document.querySelector('#' + key + ' button');\n",
              "          quickchartButtonEl.disabled = true;  // To prevent multiple clicks.\n",
              "          quickchartButtonEl.classList.add('colab-df-spinner');\n",
              "          try {\n",
              "            const charts = await google.colab.kernel.invokeFunction(\n",
              "                'suggestCharts', [key], {});\n",
              "          } catch (error) {\n",
              "            console.error('Error during call to suggestCharts:', error);\n",
              "          }\n",
              "          quickchartButtonEl.classList.remove('colab-df-spinner');\n",
              "          quickchartButtonEl.classList.add('colab-df-quickchart-complete');\n",
              "        }\n",
              "        (() => {\n",
              "          let quickchartButtonEl =\n",
              "            document.querySelector('#df-afe744ce-cabc-4823-8014-b3d30e88b62b button');\n",
              "          quickchartButtonEl.style.display =\n",
              "            google.colab.kernel.accessAllowed ? 'block' : 'none';\n",
              "        })();\n",
              "      </script>\n",
              "    </div>\n",
              "\n",
              "    </div>\n",
              "  </div>\n"
            ],
            "application/vnd.google.colaboratory.intrinsic+json": {
              "type": "dataframe",
              "variable_name": "metadata",
              "summary": "{\n  \"name\": \"metadata\",\n  \"rows\": 13100,\n  \"fields\": [\n    {\n      \"column\": \"id\",\n      \"properties\": {\n        \"dtype\": \"string\",\n        \"num_unique_values\": 13100,\n        \"samples\": [\n          \"LJ015-0247\",\n          \"LJ028-0475\",\n          \"LJ013-0049\"\n        ],\n        \"semantic_type\": \"\",\n        \"description\": \"\"\n      }\n    },\n    {\n      \"column\": \"text\",\n      \"properties\": {\n        \"dtype\": \"string\",\n        \"num_unique_values\": 13074,\n        \"samples\": [\n          \"He acknowledged the encounter with the police officer on the second floor.\",\n          \"Oswald's behavior after the assassination throws little light on his motives.\",\n          \"The Commission also regards the security arrangements worked out by Lawson and Sorrels at Love Field as entirely adequate.\"\n        ],\n        \"semantic_type\": \"\",\n        \"description\": \"\"\n      }\n    },\n    {\n      \"column\": \"normalized_text\",\n      \"properties\": {\n        \"dtype\": \"string\",\n        \"num_unique_values\": 13058,\n        \"samples\": [\n          \"in the sale of unsound mortgages and in many other ways in which the public lost billions of dollars.\",\n          \"both adaptations to an aerial environment;\",\n          \"I will quote an extract from the reverend gentleman's own journal.\"\n        ],\n        \"semantic_type\": \"\",\n        \"description\": \"\"\n      }\n    },\n    {\n      \"column\": \"audio_path\",\n      \"properties\": {\n        \"dtype\": \"string\",\n        \"num_unique_values\": 13100,\n        \"samples\": [\n          \"/content/drive/MyDrive/TTS_Project/data/LJSpeech-1.1/wavs/LJ015-0247.wav\",\n          \"/content/drive/MyDrive/TTS_Project/data/LJSpeech-1.1/wavs/LJ028-0475.wav\",\n          \"/content/drive/MyDrive/TTS_Project/data/LJSpeech-1.1/wavs/LJ013-0049.wav\"\n        ],\n        \"semantic_type\": \"\",\n        \"description\": \"\"\n      }\n    }\n  ]\n}"
            }
          },
          "metadata": {},
          "execution_count": 8
        }
      ]
    },
    {
      "cell_type": "code",
      "source": [
        "import re\n",
        "\n",
        "def normalize_text(text):\n",
        "    # Convert to string to handle potential float values\n",
        "    text = str(text)\n",
        "    text = text.lower()\n",
        "    text = re.sub(r\"[^a-z.,!?'\\s]\", \"\", text)  # Chỉ giữ lại ký tự a-z và một số dấu cơ bản\n",
        "    text = re.sub(r\"\\s+\", \" \", text).strip()  # Bỏ khoảng trắng thừa\n",
        "    return text\n",
        "\n",
        "metadata[\"normalized_text\"] = metadata[\"normalized_text\"].apply(normalize_text)\n",
        "metadata.head()\n",
        "\n",
        "from sklearn.model_selection import train_test_split\n",
        "\n",
        "# Chia tập train + val trước\n",
        "train_val, test = train_test_split(metadata, test_size=0.2, random_state=42)\n",
        "train, val = train_test_split(train_val, test_size=0.25, random_state=42)  # 0.25 * 0.8 = 0.2\n",
        "\n",
        "print(f\"Số lượng mẫu:\")\n",
        "print(f\"Train: {len(train)}, Val: {len(val)}, Test: {len(test)}\")\n",
        "output_dir = os.path.join(data_dir, \"splits\")\n",
        "os.makedirs(output_dir, exist_ok=True)\n",
        "\n",
        "train.to_csv(os.path.join(output_dir, \"train.csv\"), index=False)\n",
        "val.to_csv(os.path.join(output_dir, \"val.csv\"), index=False)\n",
        "test.to_csv(os.path.join(output_dir, \"test.csv\"), index=False)\n",
        "\n",
        "# ---The fix---\n",
        "# Recreate train_files and val_files from your DataFrames to ensure that they reference the DataFrames\n",
        "train_files = list(zip(train[\"audio_path\"], train[\"normalized_text\"])) # Create list of (audio_path, text) tuples for training\n",
        "val_files = list(zip(val[\"audio_path\"], val[\"normalized_text\"]))   # Create list of (audio_path, text) tuples for validation\n"
      ],
      "metadata": {
        "colab": {
          "base_uri": "https://localhost:8080/"
        },
        "id": "HXkvX5141bPJ",
        "outputId": "21b6271c-00a5-40cf-8b33-26a563672e91"
      },
      "execution_count": 9,
      "outputs": [
        {
          "output_type": "stream",
          "name": "stdout",
          "text": [
            "Số lượng mẫu:\n",
            "Train: 7860, Val: 2620, Test: 2620\n"
          ]
        }
      ]
    },
    {
      "cell_type": "code",
      "source": [
        "import torch\n",
        "import torch.nn as nn\n",
        "\n",
        "class CNNTTS(nn.Module):\n",
        "    def __init__(self, vocab_size=70, embed_dim=128):\n",
        "        super().__init__()\n",
        "        self.embedding = nn.Embedding(vocab_size, embed_dim)\n",
        "\n",
        "        # Encoder\n",
        "        self.encoder = nn.Sequential(\n",
        "            nn.Conv1d(embed_dim, 256, kernel_size=5, padding=2),\n",
        "            nn.ReLU(),\n",
        "            nn.BatchNorm1d(256),\n",
        "            nn.Conv1d(256, 512, kernel_size=5, padding=2),\n",
        "            nn.ReLU(),\n",
        "        )\n",
        "\n",
        "        # Decoder (simple upsample + conv transpose)\n",
        "        # Adjust padding to match output shape\n",
        "        # Changed stride to 1 and added padding\n",
        "        self.decoder = nn.Sequential(\n",
        "            nn.ConvTranspose1d(512, 80, kernel_size=5, stride=2, padding=2),\n",
        "            nn.Tanh()  # Add a Tanh activation to restrict output range\n",
        "        )\n",
        "\n",
        "        # PostNet (refine mel)\n",
        "        self.postnet = nn.Sequential(\n",
        "            nn.Conv1d(80, 512, kernel_size=5, padding=2),\n",
        "            nn.Tanh(),\n",
        "            nn.Conv1d(512, 80, kernel_size=5, padding=2),\n",
        "            )\n",
        "\n",
        "    def forward(self, x, target_len=None):\n",
        "        x = self.embedding(x).permute(0, 2, 1)  # (batch_size, embedding_dim, seq_len)\n",
        "\n",
        "        # Encoder\n",
        "        for conv in self.encoder:\n",
        "            x = conv(x)\n",
        "            # The output from the encoder is now stored in 'x'\n",
        "\n",
        "        # Decoder\n",
        "        mel = self.decoder(x)  # Use 'x' directly as input to the decoder\n",
        "\n",
        "        # Adjust mel length if needed\n",
        "        if target_len is not None:\n",
        "            padding_size = target_len - mel.shape[2]\n",
        "            if padding_size > 0:\n",
        "                padding = torch.zeros(mel.size(0), mel.size(1), padding_size, device=mel.device)\n",
        "                mel = torch.cat([mel, padding], dim=2)\n",
        "            elif padding_size < 0:\n",
        "                mel = mel[:, :, :target_len]\n",
        "\n",
        "        # Postnet + residual connection\n",
        "        mel_post = mel + self.postnet(mel)\n",
        "\n",
        "        # Ensure mel_post has same time dimension\n",
        "        if target_len is not None:\n",
        "            padding_size = target_len - mel_post.shape[2]\n",
        "            if padding_size > 0:\n",
        "                padding = torch.zeros(mel_post.size(0), mel_post.size(1), padding_size, device=mel_post.device)\n",
        "                mel_post = torch.cat([mel_post, padding], dim=2)\n",
        "            elif padding_size < 0:\n",
        "                mel_post = mel_post[:, :, :target_len]\n",
        "\n",
        "        return mel, mel_post\n",
        "\n",
        "\n",
        "\n",
        "import string\n",
        "\n",
        "# Tạo bảng chữ cái\n",
        "vocab = list(\" \" + string.ascii_lowercase + \".,!?'-\")  # 1 space + 26 chữ cái + 6 dấu\n",
        "char2id = {ch: i+1 for i, ch in enumerate(vocab)}  # Start from 1\n",
        "char2id[\"<pad>\"] = 0\n",
        "id2char = {i: ch for ch, i in char2id.items()}\n",
        "\n",
        "def text_to_sequence(text, char2id, max_len=200):\n",
        "    ids = [char2id.get(ch, 0) for ch in text]  # default to <pad> if unknown\n",
        "    if len(ids) < max_len:\n",
        "        ids += [0] * (max_len - len(ids))  # pad\n",
        "    return torch.tensor(ids[:max_len])\n",
        "\n"
      ],
      "metadata": {
        "id": "fyzrqgKR2z_v"
      },
      "execution_count": 13,
      "outputs": []
    },
    {
      "cell_type": "code",
      "source": [
        "def extract_mel_spectrogram(wav_path, save_path):\n",
        "    \"\"\"\n",
        "    Extracts mel spectrogram from a WAV file and saves it as an NPY file.\n",
        "\n",
        "    Args:\n",
        "        wav_path: Path to the WAV file.\n",
        "        save_path: Path to save the mel spectrogram as an NPY file.\n",
        "    \"\"\"\n",
        "    waveform, sample_rate = torchaudio.load(wav_path)\n",
        "\n",
        "    mel_spectrogram = torchaudio.transforms.MelSpectrogram(\n",
        "        sample_rate=sample_rate,\n",
        "        n_mels=80\n",
        "    )(waveform).squeeze(0).numpy()  # Shape: (80, T)\n",
        "\n",
        "    # Min-max normalization with zero division handling\n",
        "    min_val = mel_spectrogram.min()\n",
        "    max_val = mel_spectrogram.max()\n",
        "\n",
        "    if np.isclose(max_val, min_val):\n",
        "        normalized_mel_spectrogram = np.zeros_like(mel_spectrogram)\n",
        "    else:\n",
        "        normalized_mel_spectrogram = (mel_spectrogram - min_val) / (max_val - min_val)\n",
        "\n",
        "    np.save(save_path, normalized_mel_spectrogram)\n",
        "\n",
        "# Kiểm tra và tạo file nếu chưa tồn tại\n",
        "for index, row in metadata.iterrows():\n",
        "    wav_path = row['audio_path']\n",
        "    save_path = wav_path.replace(\".wav\", \".npy\")\n",
        "    if not os.path.exists(save_path):\n",
        "        extract_mel_spectrogram(wav_path, save_path)\n"
      ],
      "metadata": {
        "id": "Et7rK75S7hdk"
      },
      "execution_count": 38,
      "outputs": []
    },
    {
      "cell_type": "code",
      "source": [
        "from torch.utils.data import Dataset, DataLoader\n",
        "import torch\n",
        "import torch.nn as nn\n",
        "import torch.nn.functional as F\n",
        "\n",
        "import torchaudio\n",
        "import librosa\n",
        "import numpy as np\n",
        "import os\n",
        "\n",
        "\n",
        "# Update your dataset class to perform the same normalization for target Mel Spectrograms:\n",
        "class LJSpeechDataset(Dataset):\n",
        "    def __init__(self, files, char2id, max_text_len=200):\n",
        "        self.files = files\n",
        "        self.char2id = char2id\n",
        "        self.max_text_len = max_text_len\n",
        "\n",
        "    def __len__(self):\n",
        "        return len(self.files)\n",
        "\n",
        "    def __getitem__(self, idx):\n",
        "        wav_path, text = self.files[idx]\n",
        "        mel = np.load(wav_path.replace(\".wav\", \".npy\"))  # Giả định đã chuẩn hóa\n",
        "\n",
        "        # Apply min-max normalization if not already normalized\n",
        "        min_val = mel.min()\n",
        "        max_val = mel.max()\n",
        "        if (max_val - min_val) > 0: # avoid division by zero\n",
        "            mel = (mel - min_val) / (max_val - min_val)\n",
        "\n",
        "        mel_tensor = torch.tensor(mel, dtype=torch.float32)  # (80, T)\n",
        "        text_tensor = text_to_sequence(text.lower(), self.char2id, self.max_text_len)\n",
        "        return text_tensor, mel_tensor\n",
        "def collate_fn(batch):\n",
        "    texts, mels = zip(*batch)\n",
        "    max_text_len = max([t.size(0) for t in texts])\n",
        "    max_mel_len = max([m.size(1) for m in mels])\n",
        "\n",
        "    texts_padded = torch.stack([F.pad(t, (0, max_text_len - t.size(0))) for t in texts])\n",
        "\n",
        "    # Pad mels to the maximum length\n",
        "    mels_padded = torch.zeros(len(mels), mels[0].shape[0], max_mel_len) # Create a zero tensor with the desired shape\n",
        "    for i, mel in enumerate(mels):\n",
        "        mels_padded[i, :, :mel.shape[1]] = mel # Copy the mel spectrogram into the padded tensor\n",
        "\n",
        "\n",
        "    return texts_padded, mels_padded\n",
        "\n",
        "# Create train_files and val_files from your DataFrames\n",
        "\n",
        "train_dataset = LJSpeechDataset(train_files, char2id)\n",
        "val_dataset = LJSpeechDataset(val_files, char2id)\n",
        "\n",
        "train_loader = DataLoader(train_dataset, batch_size=8, shuffle=True, collate_fn=collate_fn)\n",
        "val_loader = DataLoader(val_dataset, batch_size=8, shuffle=False, collate_fn=collate_fn)\n",
        "\n",
        "import torch.optim as optim\n",
        "from torch.nn import MSELoss\n",
        "from torch.optim.lr_scheduler import ReduceLROnPlateau\n",
        "\n",
        "model = CNNTTS(vocab_size=len(char2id)).cuda()\n",
        "criterion = MSELoss()\n",
        "optimizer = optim.Adam(model.parameters(), lr=1e-3)\n",
        "scheduler = ReduceLROnPlateau(optimizer, mode='min', factor=0.5, patience=5, verbose=True)\n",
        "\n",
        "def evaluate(model, loader):\n",
        "    model.eval()\n",
        "    total_loss = 0\n",
        "    with torch.no_grad():\n",
        "        for x, y in loader:\n",
        "            x, y = x.cuda(), y.cuda()\n",
        "\n",
        "            #Get target_len from y\n",
        "            target_len = y.shape[2]\n",
        "\n",
        "            #Pass target_len to model.forward\n",
        "            mel, mel_post = model(x, target_len=target_len)  # Unpack the output\n",
        "\n",
        "            # Calculate the loss using mel_post (or mel if desired)\n",
        "            loss = criterion(mel_post, y)  # Assuming you want to use mel_post\n",
        "\n",
        "            total_loss += loss.item()\n",
        "    return total_loss / len(loader)\n",
        "\n",
        "def train(model, train_loader, val_loader, epochs):\n",
        "    for epoch in range(1, epochs + 1):\n",
        "        model.train()\n",
        "        train_loss = 0\n",
        "        for x, y in train_loader:\n",
        "            x, y = x.cuda(), y.cuda()\n",
        "\n",
        "            # Get target_len from y for training as well\n",
        "            target_len = y.shape[2]\n",
        "\n",
        "            # Pass target_len to model.forward during training\n",
        "            mel, mel_post = model(x, target_len=target_len) # Unpack the output\n",
        "\n",
        "            # Calculate loss using mel_post (or mel, depending on your desired output)\n",
        "            loss = criterion(mel_post, y) # Use mel_post for loss calculation\n",
        "\n",
        "            optimizer.zero_grad()\n",
        "            loss.backward()\n",
        "            optimizer.step()\n",
        "            train_loss += loss.item()\n",
        "\n",
        "        train_loss /= len(train_loader)\n",
        "        val_loss = evaluate(model, val_loader)\n",
        "\n",
        "        scheduler.step(val_loss)\n",
        "\n",
        "        print(f\"Epoch {epoch} | Train Loss: {train_loss:.4f} | Val Loss: {val_loss:.4f}\")\n",
        "        # Inside the training loop\n",
        "        # After every training loss evaluation.\n",
        "\n",
        "        scheduler.step(train_loss)  # Using training loss for scheduling\n",
        "\n",
        "train(model, train_loader, val_loader, epochs=50)\n",
        "\n",
        "torch.save(model.state_dict(), \"cnntts_model.pth\")\n",
        "print(\"Mô hình đã được lưu vào: cnntts_model.pth\")\n",
        "\n",
        "model = CNNTTS(vocab_size=len(char2id)).cuda()\n",
        "model.load_state_dict(torch.load(\"cnntts_model.pth\"))\n",
        "model.eval()\n"
      ],
      "metadata": {
        "colab": {
          "base_uri": "https://localhost:8080/"
        },
        "id": "d52V2tKX3GvN",
        "outputId": "9d9dc501-53af-4470-8217-bda0fca2fc73"
      },
      "execution_count": 16,
      "outputs": [
        {
          "output_type": "stream",
          "name": "stderr",
          "text": [
            "/usr/local/lib/python3.11/dist-packages/torch/optim/lr_scheduler.py:62: UserWarning: The verbose parameter is deprecated. Please use get_last_lr() to access the learning rate.\n",
            "  warnings.warn(\n"
          ]
        },
        {
          "output_type": "stream",
          "name": "stdout",
          "text": [
            "Epoch 1 | Train Loss: 0.0008 | Val Loss: 0.0003\n",
            "Epoch 2 | Train Loss: 0.0003 | Val Loss: 0.0003\n",
            "Epoch 3 | Train Loss: 0.0195 | Val Loss: 0.0007\n",
            "Epoch 4 | Train Loss: 0.0004 | Val Loss: 0.0004\n",
            "Epoch 5 | Train Loss: 0.0003 | Val Loss: 0.0003\n",
            "Epoch 6 | Train Loss: 0.0003 | Val Loss: 0.0004\n",
            "Epoch 7 | Train Loss: 0.0004 | Val Loss: 0.0013\n",
            "Epoch 8 | Train Loss: 0.0003 | Val Loss: 0.0003\n",
            "Epoch 9 | Train Loss: 0.0003 | Val Loss: 0.0006\n",
            "Epoch 10 | Train Loss: 0.0003 | Val Loss: 0.0003\n",
            "Epoch 11 | Train Loss: 0.0003 | Val Loss: 0.0003\n",
            "Epoch 12 | Train Loss: 0.0003 | Val Loss: 0.0003\n",
            "Epoch 13 | Train Loss: 0.0003 | Val Loss: 0.0003\n",
            "Epoch 14 | Train Loss: 0.0003 | Val Loss: 0.0003\n",
            "Epoch 15 | Train Loss: 0.0003 | Val Loss: 0.0003\n",
            "Epoch 16 | Train Loss: 0.0002 | Val Loss: 0.0002\n",
            "Epoch 17 | Train Loss: 0.0002 | Val Loss: 0.0002\n",
            "Epoch 18 | Train Loss: 0.0003 | Val Loss: 0.0002\n",
            "Epoch 19 | Train Loss: 0.0002 | Val Loss: 0.0002\n",
            "Epoch 20 | Train Loss: 0.0002 | Val Loss: 0.0002\n",
            "Epoch 21 | Train Loss: 0.0002 | Val Loss: 0.0002\n",
            "Epoch 22 | Train Loss: 0.0002 | Val Loss: 0.0002\n",
            "Epoch 23 | Train Loss: 0.0002 | Val Loss: 0.0002\n",
            "Epoch 24 | Train Loss: 0.0002 | Val Loss: 0.0002\n",
            "Epoch 25 | Train Loss: 0.0002 | Val Loss: 0.0002\n",
            "Epoch 26 | Train Loss: 0.0002 | Val Loss: 0.0002\n",
            "Epoch 27 | Train Loss: 0.0002 | Val Loss: 0.0002\n",
            "Epoch 28 | Train Loss: 0.0002 | Val Loss: 0.0002\n",
            "Epoch 29 | Train Loss: 0.0002 | Val Loss: 0.0002\n",
            "Epoch 30 | Train Loss: 0.0002 | Val Loss: 0.0002\n",
            "Epoch 31 | Train Loss: 0.0002 | Val Loss: 0.0002\n",
            "Epoch 32 | Train Loss: 0.0002 | Val Loss: 0.0002\n",
            "Epoch 33 | Train Loss: 0.0002 | Val Loss: 0.0002\n",
            "Epoch 34 | Train Loss: 0.0002 | Val Loss: 0.0002\n",
            "Epoch 35 | Train Loss: 0.0002 | Val Loss: 0.0002\n",
            "Epoch 36 | Train Loss: 0.0002 | Val Loss: 0.0002\n",
            "Epoch 37 | Train Loss: 0.0002 | Val Loss: 0.0002\n",
            "Epoch 38 | Train Loss: 0.0002 | Val Loss: 0.0002\n",
            "Epoch 39 | Train Loss: 0.0002 | Val Loss: 0.0002\n",
            "Epoch 40 | Train Loss: 0.0002 | Val Loss: 0.0002\n",
            "Epoch 41 | Train Loss: 0.0002 | Val Loss: 0.0002\n",
            "Epoch 42 | Train Loss: 0.0002 | Val Loss: 0.0002\n",
            "Epoch 43 | Train Loss: 0.0002 | Val Loss: 0.0002\n",
            "Epoch 44 | Train Loss: 0.0002 | Val Loss: 0.0002\n",
            "Epoch 45 | Train Loss: 0.0002 | Val Loss: 0.0002\n",
            "Epoch 46 | Train Loss: 0.0002 | Val Loss: 0.0002\n",
            "Epoch 47 | Train Loss: 0.0002 | Val Loss: 0.0002\n",
            "Epoch 48 | Train Loss: 0.0002 | Val Loss: 0.0002\n",
            "Epoch 49 | Train Loss: 0.0002 | Val Loss: 0.0002\n",
            "Epoch 50 | Train Loss: 0.0002 | Val Loss: 0.0002\n",
            "Mô hình đã được lưu vào: cnntts_model.pth\n"
          ]
        },
        {
          "output_type": "execute_result",
          "data": {
            "text/plain": [
              "CNNTTS(\n",
              "  (embedding): Embedding(34, 128)\n",
              "  (encoder): Sequential(\n",
              "    (0): Conv1d(128, 256, kernel_size=(5,), stride=(1,), padding=(2,))\n",
              "    (1): ReLU()\n",
              "    (2): BatchNorm1d(256, eps=1e-05, momentum=0.1, affine=True, track_running_stats=True)\n",
              "    (3): Conv1d(256, 512, kernel_size=(5,), stride=(1,), padding=(2,))\n",
              "    (4): ReLU()\n",
              "  )\n",
              "  (decoder): Sequential(\n",
              "    (0): ConvTranspose1d(512, 80, kernel_size=(5,), stride=(2,), padding=(2,))\n",
              "    (1): Tanh()\n",
              "  )\n",
              "  (postnet): Sequential(\n",
              "    (0): Conv1d(80, 512, kernel_size=(5,), stride=(1,), padding=(2,))\n",
              "    (1): Tanh()\n",
              "    (2): Conv1d(512, 80, kernel_size=(5,), stride=(1,), padding=(2,))\n",
              "  )\n",
              ")"
            ]
          },
          "metadata": {},
          "execution_count": 16
        }
      ]
    },
    {
      "cell_type": "code",
      "source": [
        "import torch\n",
        "\n",
        "# Load pretrained MelGAN từ torch.hub\n",
        "melgan = torch.hub.load('seungwonpark/melgan', 'melgan')\n",
        "melgan.eval()\n",
        "\n"
      ],
      "metadata": {
        "colab": {
          "base_uri": "https://localhost:8080/"
        },
        "id": "3M3aUaoJBkyG",
        "outputId": "52477da2-2799-4c33-d6ac-5f80c0edded3"
      },
      "execution_count": 19,
      "outputs": [
        {
          "output_type": "stream",
          "name": "stderr",
          "text": [
            "/usr/local/lib/python3.11/dist-packages/torch/hub.py:330: UserWarning: You are about to download and run code from an untrusted repository. In a future release, this won't be allowed. To add the repository to your trusted list, change the command to {calling_fn}(..., trust_repo=False) and a command prompt will appear asking for an explicit confirmation of trust, or load(..., trust_repo=True), which will assume that the prompt is to be answered with 'yes'. You can also use load(..., trust_repo='check') which will only prompt for confirmation if the repo is not already trusted. This will eventually be the default behaviour\n",
            "  warnings.warn(\n",
            "Downloading: \"https://github.com/seungwonpark/melgan/zipball/master\" to /root/.cache/torch/hub/master.zip\n",
            "/usr/local/lib/python3.11/dist-packages/torch/nn/utils/weight_norm.py:143: FutureWarning: `torch.nn.utils.weight_norm` is deprecated in favor of `torch.nn.utils.parametrizations.weight_norm`.\n",
            "  WeightNorm.apply(module, name, dim)\n",
            "Downloading: \"https://github.com/seungwonpark/melgan/releases/download/v0.3-alpha/nvidia_tacotron2_LJ11_epoch6400.pt\" to /root/.cache/torch/hub/checkpoints/nvidia_tacotron2_LJ11_epoch6400.pt\n",
            "100%|██████████| 16.3M/16.3M [00:01<00:00, 15.4MB/s]"
          ]
        },
        {
          "output_type": "stream",
          "name": "stdout",
          "text": [
            "📄 Tổng số mẫu test: 2620\n"
          ]
        },
        {
          "output_type": "stream",
          "name": "stderr",
          "text": [
            "\n"
          ]
        }
      ]
    },
    {
      "cell_type": "code",
      "source": [
        "print(\"Mel channel size expected by MelGAN:\", melgan_vocoder.mel_channel)\n"
      ],
      "metadata": {
        "colab": {
          "base_uri": "https://localhost:8080/"
        },
        "id": "eoYZNG9rDGOv",
        "outputId": "0e337aa7-f659-4dbd-bf9a-a8c17fe6830b"
      },
      "execution_count": 31,
      "outputs": [
        {
          "output_type": "stream",
          "name": "stdout",
          "text": [
            "Mel channel size expected by MelGAN: 80\n"
          ]
        }
      ]
    },
    {
      "cell_type": "code",
      "source": [
        "mel = np.load(wav_path.replace(\".wav\", \".npy\"))  # Assuming the correct path is wav_path.replace(\".wav\", \".npy\")\n",
        "print(\"Shape of mel:\", mel.shape)  # Expecting (80, T)\n"
      ],
      "metadata": {
        "colab": {
          "base_uri": "https://localhost:8080/"
        },
        "id": "Iv7cidmoDW2I",
        "outputId": "c1acb261-55fd-4844-c3fe-d2c7a9e1478e"
      },
      "execution_count": 33,
      "outputs": [
        {
          "output_type": "stream",
          "name": "stdout",
          "text": [
            "Shape of mel: (80, 984)\n"
          ]
        }
      ]
    },
    {
      "cell_type": "code",
      "source": [
        "print(\"Mel channel size expected by MelGAN:\", melgan_vocoder.mel_channel)\n"
      ],
      "metadata": {
        "colab": {
          "base_uri": "https://localhost:8080/"
        },
        "id": "QcHlvRI_DisP",
        "outputId": "0cefa35b-3c5a-4547-8478-e8ebb2ac31a1"
      },
      "execution_count": 34,
      "outputs": [
        {
          "output_type": "stream",
          "name": "stdout",
          "text": [
            "Mel channel size expected by MelGAN: 80\n"
          ]
        }
      ]
    },
    {
      "cell_type": "code",
      "source": [
        "import numpy as np\n",
        "import os\n",
        "from tqdm import tqdm\n",
        "\n",
        "def check_npy_files(file_paths, expected_shape_0=80):\n",
        "    invalid_files = []\n",
        "\n",
        "    for path in tqdm(file_paths):\n",
        "        try:\n",
        "            data = np.load(path)\n",
        "            if data.shape[0] != expected_shape_0:\n",
        "                print(f\"⚠️ Wrong shape in: {path} – got shape {data.shape}\")\n",
        "                invalid_files.append(path)\n",
        "            elif not (0 <= data.min() <= data.max() <= 1):\n",
        "                print(f\"⚠️ Value out of [0, 1] range in: {path}\")\n",
        "                invalid_files.append(path)\n",
        "        except Exception as e:\n",
        "            print(f\"❌ Error reading {path}: {e}\")\n",
        "            invalid_files.append(path)\n",
        "\n",
        "    print(f\"\\nChecked {len(file_paths)} files. Found {len(invalid_files)} invalid files.\")\n",
        "    return invalid_files\n"
      ],
      "metadata": {
        "id": "6V7vrLIbEEjh"
      },
      "execution_count": 43,
      "outputs": []
    },
    {
      "cell_type": "code",
      "source": [
        "print(f\"Mel shape: {mel.shape}\")\n",
        "print(f\"Mel min/max: {mel.min().item():.2f} / {mel.max().item():.2f}\")\n",
        "# mel_train = torch.load(\"path_to_a_mel_from_training.pt\") #Commented out the problematic line\n",
        "# print(f\"Train mel min/max: {mel_train.min().item():.2f} / {mel_train.max().item():.2f}\") #Commented out the problematic line\n",
        "\n",
        "# Replace with an actual path or comment out if not needed\n",
        "# mel_train = torch.load(\"/content/drive/MyDrive/TTS_Project/data/splits/train.csv\") # Or similar, this line was causing the error\n",
        "# Instead, load the DataFrame for inspection:\n",
        "import numpy as np\n",
        "\n",
        "# Lấy đường dẫn đến file mel từ dòng đầu tiên\n",
        "first_wav_path = mel_train_df.iloc[0][\"audio_path\"]  # Ví dụ: \"wavs/audio001.wav\"\n",
        "first_mel_path = first_wav_path.replace(\".wav\", \".npy\")  # Giả sử mel được lưu cùng tên, khác đuôi\n",
        "\n",
        "# Load mel\n",
        "first_mel = np.load(first_mel_path)  # [80, T] hoặc [T, 80] tùy định dạng bạn lưu\n",
        "\n",
        "# Nếu là numpy array, convert sang torch để dùng .min(), .max()\n",
        "mel_tensor = torch.tensor(first_mel)\n",
        "print(f\"Train mel shape: {mel_tensor.shape}\")\n",
        "print(f\"Train mel min/max: {mel_tensor.min().item():.2f} / {mel_tensor.max().item():.2f}\")\n",
        "\n"
      ],
      "metadata": {
        "colab": {
          "base_uri": "https://localhost:8080/",
          "height": 211
        },
        "id": "JIDMeXaLxDfz",
        "outputId": "cb72c8ad-a627-44f5-b829-532625640d34"
      },
      "execution_count": 1,
      "outputs": [
        {
          "output_type": "error",
          "ename": "NameError",
          "evalue": "name 'mel' is not defined",
          "traceback": [
            "\u001b[0;31m---------------------------------------------------------------------------\u001b[0m",
            "\u001b[0;31mNameError\u001b[0m                                 Traceback (most recent call last)",
            "\u001b[0;32m<ipython-input-1-7f7b999f6bc8>\u001b[0m in \u001b[0;36m<cell line: 0>\u001b[0;34m()\u001b[0m\n\u001b[0;32m----> 1\u001b[0;31m \u001b[0mprint\u001b[0m\u001b[0;34m(\u001b[0m\u001b[0;34mf\"Mel shape: {mel.shape}\"\u001b[0m\u001b[0;34m)\u001b[0m\u001b[0;34m\u001b[0m\u001b[0;34m\u001b[0m\u001b[0m\n\u001b[0m\u001b[1;32m      2\u001b[0m \u001b[0mprint\u001b[0m\u001b[0;34m(\u001b[0m\u001b[0;34mf\"Mel min/max: {mel.min().item():.2f} / {mel.max().item():.2f}\"\u001b[0m\u001b[0;34m)\u001b[0m\u001b[0;34m\u001b[0m\u001b[0;34m\u001b[0m\u001b[0m\n\u001b[1;32m      3\u001b[0m \u001b[0;31m# mel_train = torch.load(\"path_to_a_mel_from_training.pt\") #Commented out the problematic line\u001b[0m\u001b[0;34m\u001b[0m\u001b[0;34m\u001b[0m\u001b[0m\n\u001b[1;32m      4\u001b[0m \u001b[0;31m# print(f\"Train mel min/max: {mel_train.min().item():.2f} / {mel_train.max().item():.2f}\") #Commented out the problematic line\u001b[0m\u001b[0;34m\u001b[0m\u001b[0;34m\u001b[0m\u001b[0m\n\u001b[1;32m      5\u001b[0m \u001b[0;34m\u001b[0m\u001b[0m\n",
            "\u001b[0;31mNameError\u001b[0m: name 'mel' is not defined"
          ]
        }
      ]
    },
    {
      "cell_type": "code",
      "source": [
        "import torch\n",
        "import torchaudio\n",
        "import os\n",
        "import numpy as np\n",
        "import pandas as pd  # Import pandas để đọc file CSV\n",
        "import torchaudio.transforms as T  # Import torchaudio transforms\n",
        "\n",
        "# Đảm bảo thư mục đầu ra tồn tại\n",
        "os.makedirs(\"tts_eval_outputs\", exist_ok=True)\n",
        "\n",
        "# Hàm tổng hợp âm thanh từ văn bản (sử dụng mô hình TTS và vocoder MelGAN)\n",
        "def synthesize_sample(text, idx, tts_model, vocoder_model, char2id, save_dir=\"tts_eval_outputs\"):\n",
        "    # Chuyển văn bản thành chuỗi ID sử dụng char2id\n",
        "    text_tensor = text_to_sequence(text.lower(), char2id, max_len=200).unsqueeze(0).cuda()  # Unsqueeze và chuyển sang CUDA\n",
        "\n",
        "    # Pass text_tensor vào mô hình\n",
        "    with torch.no_grad():\n",
        "        mel, mel_post = tts_model(text_tensor)  # Giả sử tts_model có phương thức forward() hoặc predict()\n",
        "\n",
        "    # Chuyển đổi mel spectrogram thành audio waveform sử dụng vocoder\n",
        "    # Modified to access the first element of the tuple (mel)\n",
        "    # Reshape mel spectrogram to match the expected shape by MelGAN\n",
        "    mel_spec = mel.cpu().squeeze(0) # Di chuyển mel về CPU và bỏ batch dimension\n",
        "    # mel_spec = mel_spec[:, :399]  # Keep only the first 399 frames # The error was caused by this line, which was selecting the wrong dimension\n",
        "\n",
        "    #Call mel_to_audio and assign the result to waveform\n",
        "    waveform = mel_to_audio(mel_spec)\n",
        "\n",
        "    # Lưu waveform audio vào file\n",
        "    save_path = os.path.join(save_dir, f\"{idx}.wav\")\n",
        "    if mel.dim() == 2:\n",
        "     mel = mel.unsqueeze(0)  # thêm batch dimension nếu thiếu\n",
        "\n",
        "    # Kiểm tra lại shape\n",
        "    assert mel.shape[1] == 80, f\"Expected mel_channels=80, got {mel.shape[1]}\"\n",
        "    # Giả sử waveform có shape [num_samples], chuyển thành mono [1, num_samples]\n",
        "    if waveform.dim() == 1:\n",
        "     waveform = waveform.unsqueeze(0)\n",
        "\n",
        "\n",
        "    # Explicitly set format and encoding for torchaudio.save\n",
        "    torchaudio.save(save_path, waveform, sample_rate=22050)\n",
        "\n",
        "    return save_path  # Trả về đường dẫn của file đã lưu\n",
        "\n",
        "# Hàm chuyển đổi mel spectrogram thành audio\n",
        "def mel_to_audio(mel_spec):\n",
        "    \"\"\"\n",
        "    mel_spec: Tensor [80, T] (log-Mel, không scale)\n",
        "    Returns: audio waveform [T]\n",
        "    \"\"\"\n",
        "    if mel_spec.dim() == 2:\n",
        "        mel_spec = mel_spec.unsqueeze(0)  # [1, 80, T]\n",
        "\n",
        "    if mel_spec.shape[1] != melgan_vocoder.mel_channel:\n",
        "        raise ValueError(f\"Expected mel channels = {melgan_vocoder.mel_channel}, but got {mel_spec.shape[1]}\")\n",
        "\n",
        "    with torch.no_grad():\n",
        "        audio = melgan_vocoder.inference(mel_spec).squeeze(0)\n",
        "\n",
        "    return audio\n",
        "\n",
        "# Đảm bảo rằng bạn đã tải model MelGAN trước đó\n",
        "melgan_vocoder = melgan  # Giả sử melgan là vocoder đã được tải\n",
        "\n",
        "# Đọc dữ liệu từ file CSV (ví dụ test.csv)\n",
        "df_test = pd.read_csv(\"test.csv\")  # Thay đổi đường dẫn đến file test.csv của bạn\n",
        "\n",
        "gen_paths = []\n",
        "for i, row in df_test.iterrows():\n",
        "    text = row[\"text\"]  # Văn bản từ file CSV\n",
        "    gen_path = synthesize_sample(text, i, model, melgan_vocoder, char2id)  # Pass char2id vào hàm synthesize_sample\n",
        "    gen_paths.append(gen_path)\n",
        "\n",
        "# In ra đường dẫn các file .wav đã được tạo\n",
        "for path in gen_paths[:5]:  # In đường dẫn của 5 file đầu tiên\n",
        "    print(f\"Generated file: {path}\")"
      ],
      "metadata": {
        "colab": {
          "base_uri": "https://localhost:8080/",
          "height": 356
        },
        "id": "mmIDw4pDX_Tr",
        "outputId": "b43e850e-f6d5-4a5b-fcac-b81c3d674423"
      },
      "execution_count": 95,
      "outputs": [
        {
          "output_type": "error",
          "ename": "KeyboardInterrupt",
          "evalue": "",
          "traceback": [
            "\u001b[0;31m---------------------------------------------------------------------------\u001b[0m",
            "\u001b[0;31mKeyboardInterrupt\u001b[0m                         Traceback (most recent call last)",
            "\u001b[0;32m<ipython-input-95-2ce4782998a8>\u001b[0m in \u001b[0;36m<cell line: 0>\u001b[0;34m()\u001b[0m\n\u001b[1;32m     70\u001b[0m \u001b[0;32mfor\u001b[0m \u001b[0mi\u001b[0m\u001b[0;34m,\u001b[0m \u001b[0mrow\u001b[0m \u001b[0;32min\u001b[0m \u001b[0mdf_test\u001b[0m\u001b[0;34m.\u001b[0m\u001b[0miterrows\u001b[0m\u001b[0;34m(\u001b[0m\u001b[0;34m)\u001b[0m\u001b[0;34m:\u001b[0m\u001b[0;34m\u001b[0m\u001b[0;34m\u001b[0m\u001b[0m\n\u001b[1;32m     71\u001b[0m     \u001b[0mtext\u001b[0m \u001b[0;34m=\u001b[0m \u001b[0mrow\u001b[0m\u001b[0;34m[\u001b[0m\u001b[0;34m\"text\"\u001b[0m\u001b[0;34m]\u001b[0m  \u001b[0;31m# Văn bản từ file CSV\u001b[0m\u001b[0;34m\u001b[0m\u001b[0;34m\u001b[0m\u001b[0m\n\u001b[0;32m---> 72\u001b[0;31m     \u001b[0mgen_path\u001b[0m \u001b[0;34m=\u001b[0m \u001b[0msynthesize_sample\u001b[0m\u001b[0;34m(\u001b[0m\u001b[0mtext\u001b[0m\u001b[0;34m,\u001b[0m \u001b[0mi\u001b[0m\u001b[0;34m,\u001b[0m \u001b[0mmodel\u001b[0m\u001b[0;34m,\u001b[0m \u001b[0mmelgan_vocoder\u001b[0m\u001b[0;34m,\u001b[0m \u001b[0mchar2id\u001b[0m\u001b[0;34m)\u001b[0m  \u001b[0;31m# Pass char2id vào hàm synthesize_sample\u001b[0m\u001b[0;34m\u001b[0m\u001b[0;34m\u001b[0m\u001b[0m\n\u001b[0m\u001b[1;32m     73\u001b[0m     \u001b[0mgen_paths\u001b[0m\u001b[0;34m.\u001b[0m\u001b[0mappend\u001b[0m\u001b[0;34m(\u001b[0m\u001b[0mgen_path\u001b[0m\u001b[0;34m)\u001b[0m\u001b[0;34m\u001b[0m\u001b[0;34m\u001b[0m\u001b[0m\n\u001b[1;32m     74\u001b[0m \u001b[0;34m\u001b[0m\u001b[0m\n",
            "\u001b[0;32m<ipython-input-95-2ce4782998a8>\u001b[0m in \u001b[0;36msynthesize_sample\u001b[0;34m(text, idx, tts_model, vocoder_model, char2id, save_dir)\u001b[0m\n\u001b[1;32m     25\u001b[0m \u001b[0;34m\u001b[0m\u001b[0m\n\u001b[1;32m     26\u001b[0m     \u001b[0;31m#Call mel_to_audio and assign the result to waveform\u001b[0m\u001b[0;34m\u001b[0m\u001b[0;34m\u001b[0m\u001b[0m\n\u001b[0;32m---> 27\u001b[0;31m     \u001b[0mwaveform\u001b[0m \u001b[0;34m=\u001b[0m \u001b[0mmel_to_audio\u001b[0m\u001b[0;34m(\u001b[0m\u001b[0mmel_spec\u001b[0m\u001b[0;34m)\u001b[0m\u001b[0;34m\u001b[0m\u001b[0;34m\u001b[0m\u001b[0m\n\u001b[0m\u001b[1;32m     28\u001b[0m \u001b[0;34m\u001b[0m\u001b[0m\n\u001b[1;32m     29\u001b[0m     \u001b[0;31m# Lưu waveform audio vào file\u001b[0m\u001b[0;34m\u001b[0m\u001b[0;34m\u001b[0m\u001b[0m\n",
            "\u001b[0;32m<ipython-input-95-2ce4782998a8>\u001b[0m in \u001b[0;36mmel_to_audio\u001b[0;34m(mel_spec)\u001b[0m\n\u001b[1;32m     57\u001b[0m \u001b[0;34m\u001b[0m\u001b[0m\n\u001b[1;32m     58\u001b[0m     \u001b[0;32mwith\u001b[0m \u001b[0mtorch\u001b[0m\u001b[0;34m.\u001b[0m\u001b[0mno_grad\u001b[0m\u001b[0;34m(\u001b[0m\u001b[0;34m)\u001b[0m\u001b[0;34m:\u001b[0m\u001b[0;34m\u001b[0m\u001b[0;34m\u001b[0m\u001b[0m\n\u001b[0;32m---> 59\u001b[0;31m         \u001b[0maudio\u001b[0m \u001b[0;34m=\u001b[0m \u001b[0mmelgan_vocoder\u001b[0m\u001b[0;34m.\u001b[0m\u001b[0minference\u001b[0m\u001b[0;34m(\u001b[0m\u001b[0mmel_spec\u001b[0m\u001b[0;34m)\u001b[0m\u001b[0;34m.\u001b[0m\u001b[0msqueeze\u001b[0m\u001b[0;34m(\u001b[0m\u001b[0;36m0\u001b[0m\u001b[0;34m)\u001b[0m\u001b[0;34m\u001b[0m\u001b[0;34m\u001b[0m\u001b[0m\n\u001b[0m\u001b[1;32m     60\u001b[0m \u001b[0;34m\u001b[0m\u001b[0m\n\u001b[1;32m     61\u001b[0m     \u001b[0;32mreturn\u001b[0m \u001b[0maudio\u001b[0m\u001b[0;34m\u001b[0m\u001b[0;34m\u001b[0m\u001b[0m\n",
            "\u001b[0;32m~/.cache/torch/hub/seungwonpark_melgan_master/model/generator.py\u001b[0m in \u001b[0;36minference\u001b[0;34m(self, mel)\u001b[0m\n\u001b[1;32m     70\u001b[0m         \u001b[0mmel\u001b[0m \u001b[0;34m=\u001b[0m \u001b[0mtorch\u001b[0m\u001b[0;34m.\u001b[0m\u001b[0mcat\u001b[0m\u001b[0;34m(\u001b[0m\u001b[0;34m(\u001b[0m\u001b[0mmel\u001b[0m\u001b[0;34m,\u001b[0m \u001b[0mzero\u001b[0m\u001b[0;34m)\u001b[0m\u001b[0;34m,\u001b[0m \u001b[0mdim\u001b[0m\u001b[0;34m=\u001b[0m\u001b[0;36m2\u001b[0m\u001b[0;34m)\u001b[0m\u001b[0;34m\u001b[0m\u001b[0;34m\u001b[0m\u001b[0m\n\u001b[1;32m     71\u001b[0m \u001b[0;34m\u001b[0m\u001b[0m\n\u001b[0;32m---> 72\u001b[0;31m         \u001b[0maudio\u001b[0m \u001b[0;34m=\u001b[0m \u001b[0mself\u001b[0m\u001b[0;34m.\u001b[0m\u001b[0mforward\u001b[0m\u001b[0;34m(\u001b[0m\u001b[0mmel\u001b[0m\u001b[0;34m)\u001b[0m\u001b[0;34m\u001b[0m\u001b[0;34m\u001b[0m\u001b[0m\n\u001b[0m\u001b[1;32m     73\u001b[0m         \u001b[0maudio\u001b[0m \u001b[0;34m=\u001b[0m \u001b[0maudio\u001b[0m\u001b[0;34m.\u001b[0m\u001b[0msqueeze\u001b[0m\u001b[0;34m(\u001b[0m\u001b[0;34m)\u001b[0m \u001b[0;31m# collapse all dimension except time axis\u001b[0m\u001b[0;34m\u001b[0m\u001b[0;34m\u001b[0m\u001b[0m\n\u001b[1;32m     74\u001b[0m         \u001b[0maudio\u001b[0m \u001b[0;34m=\u001b[0m \u001b[0maudio\u001b[0m\u001b[0;34m[\u001b[0m\u001b[0;34m:\u001b[0m\u001b[0;34m-\u001b[0m\u001b[0;34m(\u001b[0m\u001b[0mhop_length\u001b[0m\u001b[0;34m*\u001b[0m\u001b[0;36m10\u001b[0m\u001b[0;34m)\u001b[0m\u001b[0;34m]\u001b[0m\u001b[0;34m\u001b[0m\u001b[0;34m\u001b[0m\u001b[0m\n",
            "\u001b[0;32m~/.cache/torch/hub/seungwonpark_melgan_master/model/generator.py\u001b[0m in \u001b[0;36mforward\u001b[0;34m(self, mel)\u001b[0m\n\u001b[1;32m     46\u001b[0m     \u001b[0;32mdef\u001b[0m \u001b[0mforward\u001b[0m\u001b[0;34m(\u001b[0m\u001b[0mself\u001b[0m\u001b[0;34m,\u001b[0m \u001b[0mmel\u001b[0m\u001b[0;34m)\u001b[0m\u001b[0;34m:\u001b[0m\u001b[0;34m\u001b[0m\u001b[0;34m\u001b[0m\u001b[0m\n\u001b[1;32m     47\u001b[0m         \u001b[0mmel\u001b[0m \u001b[0;34m=\u001b[0m \u001b[0;34m(\u001b[0m\u001b[0mmel\u001b[0m \u001b[0;34m+\u001b[0m \u001b[0;36m5.0\u001b[0m\u001b[0;34m)\u001b[0m \u001b[0;34m/\u001b[0m \u001b[0;36m5.0\u001b[0m \u001b[0;31m# roughly normalize spectrogram\u001b[0m\u001b[0;34m\u001b[0m\u001b[0;34m\u001b[0m\u001b[0m\n\u001b[0;32m---> 48\u001b[0;31m         \u001b[0;32mreturn\u001b[0m \u001b[0mself\u001b[0m\u001b[0;34m.\u001b[0m\u001b[0mgenerator\u001b[0m\u001b[0;34m(\u001b[0m\u001b[0mmel\u001b[0m\u001b[0;34m)\u001b[0m\u001b[0;34m\u001b[0m\u001b[0;34m\u001b[0m\u001b[0m\n\u001b[0m\u001b[1;32m     49\u001b[0m \u001b[0;34m\u001b[0m\u001b[0m\n\u001b[1;32m     50\u001b[0m     \u001b[0;32mdef\u001b[0m \u001b[0meval\u001b[0m\u001b[0;34m(\u001b[0m\u001b[0mself\u001b[0m\u001b[0;34m,\u001b[0m \u001b[0minference\u001b[0m\u001b[0;34m=\u001b[0m\u001b[0;32mFalse\u001b[0m\u001b[0;34m)\u001b[0m\u001b[0;34m:\u001b[0m\u001b[0;34m\u001b[0m\u001b[0;34m\u001b[0m\u001b[0m\n",
            "\u001b[0;32m/usr/local/lib/python3.11/dist-packages/torch/nn/modules/module.py\u001b[0m in \u001b[0;36m_wrapped_call_impl\u001b[0;34m(self, *args, **kwargs)\u001b[0m\n\u001b[1;32m   1737\u001b[0m             \u001b[0;32mreturn\u001b[0m \u001b[0mself\u001b[0m\u001b[0;34m.\u001b[0m\u001b[0m_compiled_call_impl\u001b[0m\u001b[0;34m(\u001b[0m\u001b[0;34m*\u001b[0m\u001b[0margs\u001b[0m\u001b[0;34m,\u001b[0m \u001b[0;34m**\u001b[0m\u001b[0mkwargs\u001b[0m\u001b[0;34m)\u001b[0m  \u001b[0;31m# type: ignore[misc]\u001b[0m\u001b[0;34m\u001b[0m\u001b[0;34m\u001b[0m\u001b[0m\n\u001b[1;32m   1738\u001b[0m         \u001b[0;32melse\u001b[0m\u001b[0;34m:\u001b[0m\u001b[0;34m\u001b[0m\u001b[0;34m\u001b[0m\u001b[0m\n\u001b[0;32m-> 1739\u001b[0;31m             \u001b[0;32mreturn\u001b[0m \u001b[0mself\u001b[0m\u001b[0;34m.\u001b[0m\u001b[0m_call_impl\u001b[0m\u001b[0;34m(\u001b[0m\u001b[0;34m*\u001b[0m\u001b[0margs\u001b[0m\u001b[0;34m,\u001b[0m \u001b[0;34m**\u001b[0m\u001b[0mkwargs\u001b[0m\u001b[0;34m)\u001b[0m\u001b[0;34m\u001b[0m\u001b[0;34m\u001b[0m\u001b[0m\n\u001b[0m\u001b[1;32m   1740\u001b[0m \u001b[0;34m\u001b[0m\u001b[0m\n\u001b[1;32m   1741\u001b[0m     \u001b[0;31m# torchrec tests the code consistency with the following code\u001b[0m\u001b[0;34m\u001b[0m\u001b[0;34m\u001b[0m\u001b[0m\n",
            "\u001b[0;32m/usr/local/lib/python3.11/dist-packages/torch/nn/modules/module.py\u001b[0m in \u001b[0;36m_call_impl\u001b[0;34m(self, *args, **kwargs)\u001b[0m\n\u001b[1;32m   1748\u001b[0m                 \u001b[0;32mor\u001b[0m \u001b[0m_global_backward_pre_hooks\u001b[0m \u001b[0;32mor\u001b[0m \u001b[0m_global_backward_hooks\u001b[0m\u001b[0;34m\u001b[0m\u001b[0;34m\u001b[0m\u001b[0m\n\u001b[1;32m   1749\u001b[0m                 or _global_forward_hooks or _global_forward_pre_hooks):\n\u001b[0;32m-> 1750\u001b[0;31m             \u001b[0;32mreturn\u001b[0m \u001b[0mforward_call\u001b[0m\u001b[0;34m(\u001b[0m\u001b[0;34m*\u001b[0m\u001b[0margs\u001b[0m\u001b[0;34m,\u001b[0m \u001b[0;34m**\u001b[0m\u001b[0mkwargs\u001b[0m\u001b[0;34m)\u001b[0m\u001b[0;34m\u001b[0m\u001b[0;34m\u001b[0m\u001b[0m\n\u001b[0m\u001b[1;32m   1751\u001b[0m \u001b[0;34m\u001b[0m\u001b[0m\n\u001b[1;32m   1752\u001b[0m         \u001b[0mresult\u001b[0m \u001b[0;34m=\u001b[0m \u001b[0;32mNone\u001b[0m\u001b[0;34m\u001b[0m\u001b[0;34m\u001b[0m\u001b[0m\n",
            "\u001b[0;32m/usr/local/lib/python3.11/dist-packages/torch/nn/modules/container.py\u001b[0m in \u001b[0;36mforward\u001b[0;34m(self, input)\u001b[0m\n\u001b[1;32m    248\u001b[0m     \u001b[0;32mdef\u001b[0m \u001b[0mforward\u001b[0m\u001b[0;34m(\u001b[0m\u001b[0mself\u001b[0m\u001b[0;34m,\u001b[0m \u001b[0minput\u001b[0m\u001b[0;34m)\u001b[0m\u001b[0;34m:\u001b[0m\u001b[0;34m\u001b[0m\u001b[0;34m\u001b[0m\u001b[0m\n\u001b[1;32m    249\u001b[0m         \u001b[0;32mfor\u001b[0m \u001b[0mmodule\u001b[0m \u001b[0;32min\u001b[0m \u001b[0mself\u001b[0m\u001b[0;34m:\u001b[0m\u001b[0;34m\u001b[0m\u001b[0;34m\u001b[0m\u001b[0m\n\u001b[0;32m--> 250\u001b[0;31m             \u001b[0minput\u001b[0m \u001b[0;34m=\u001b[0m \u001b[0mmodule\u001b[0m\u001b[0;34m(\u001b[0m\u001b[0minput\u001b[0m\u001b[0;34m)\u001b[0m\u001b[0;34m\u001b[0m\u001b[0;34m\u001b[0m\u001b[0m\n\u001b[0m\u001b[1;32m    251\u001b[0m         \u001b[0;32mreturn\u001b[0m \u001b[0minput\u001b[0m\u001b[0;34m\u001b[0m\u001b[0;34m\u001b[0m\u001b[0m\n\u001b[1;32m    252\u001b[0m \u001b[0;34m\u001b[0m\u001b[0m\n",
            "\u001b[0;32m/usr/local/lib/python3.11/dist-packages/torch/nn/modules/module.py\u001b[0m in \u001b[0;36m_wrapped_call_impl\u001b[0;34m(self, *args, **kwargs)\u001b[0m\n\u001b[1;32m   1737\u001b[0m             \u001b[0;32mreturn\u001b[0m \u001b[0mself\u001b[0m\u001b[0;34m.\u001b[0m\u001b[0m_compiled_call_impl\u001b[0m\u001b[0;34m(\u001b[0m\u001b[0;34m*\u001b[0m\u001b[0margs\u001b[0m\u001b[0;34m,\u001b[0m \u001b[0;34m**\u001b[0m\u001b[0mkwargs\u001b[0m\u001b[0;34m)\u001b[0m  \u001b[0;31m# type: ignore[misc]\u001b[0m\u001b[0;34m\u001b[0m\u001b[0;34m\u001b[0m\u001b[0m\n\u001b[1;32m   1738\u001b[0m         \u001b[0;32melse\u001b[0m\u001b[0;34m:\u001b[0m\u001b[0;34m\u001b[0m\u001b[0;34m\u001b[0m\u001b[0m\n\u001b[0;32m-> 1739\u001b[0;31m             \u001b[0;32mreturn\u001b[0m \u001b[0mself\u001b[0m\u001b[0;34m.\u001b[0m\u001b[0m_call_impl\u001b[0m\u001b[0;34m(\u001b[0m\u001b[0;34m*\u001b[0m\u001b[0margs\u001b[0m\u001b[0;34m,\u001b[0m \u001b[0;34m**\u001b[0m\u001b[0mkwargs\u001b[0m\u001b[0;34m)\u001b[0m\u001b[0;34m\u001b[0m\u001b[0;34m\u001b[0m\u001b[0m\n\u001b[0m\u001b[1;32m   1740\u001b[0m \u001b[0;34m\u001b[0m\u001b[0m\n\u001b[1;32m   1741\u001b[0m     \u001b[0;31m# torchrec tests the code consistency with the following code\u001b[0m\u001b[0;34m\u001b[0m\u001b[0;34m\u001b[0m\u001b[0m\n",
            "\u001b[0;32m/usr/local/lib/python3.11/dist-packages/torch/nn/modules/module.py\u001b[0m in \u001b[0;36m_call_impl\u001b[0;34m(self, *args, **kwargs)\u001b[0m\n\u001b[1;32m   1748\u001b[0m                 \u001b[0;32mor\u001b[0m \u001b[0m_global_backward_pre_hooks\u001b[0m \u001b[0;32mor\u001b[0m \u001b[0m_global_backward_hooks\u001b[0m\u001b[0;34m\u001b[0m\u001b[0;34m\u001b[0m\u001b[0m\n\u001b[1;32m   1749\u001b[0m                 or _global_forward_hooks or _global_forward_pre_hooks):\n\u001b[0;32m-> 1750\u001b[0;31m             \u001b[0;32mreturn\u001b[0m \u001b[0mforward_call\u001b[0m\u001b[0;34m(\u001b[0m\u001b[0;34m*\u001b[0m\u001b[0margs\u001b[0m\u001b[0;34m,\u001b[0m \u001b[0;34m**\u001b[0m\u001b[0mkwargs\u001b[0m\u001b[0;34m)\u001b[0m\u001b[0;34m\u001b[0m\u001b[0;34m\u001b[0m\u001b[0m\n\u001b[0m\u001b[1;32m   1751\u001b[0m \u001b[0;34m\u001b[0m\u001b[0m\n\u001b[1;32m   1752\u001b[0m         \u001b[0mresult\u001b[0m \u001b[0;34m=\u001b[0m \u001b[0;32mNone\u001b[0m\u001b[0;34m\u001b[0m\u001b[0;34m\u001b[0m\u001b[0m\n",
            "\u001b[0;32m~/.cache/torch/hub/seungwonpark_melgan_master/model/res_stack.py\u001b[0m in \u001b[0;36mforward\u001b[0;34m(self, x)\u001b[0m\n\u001b[1;32m     27\u001b[0m     \u001b[0;32mdef\u001b[0m \u001b[0mforward\u001b[0m\u001b[0;34m(\u001b[0m\u001b[0mself\u001b[0m\u001b[0;34m,\u001b[0m \u001b[0mx\u001b[0m\u001b[0;34m)\u001b[0m\u001b[0;34m:\u001b[0m\u001b[0;34m\u001b[0m\u001b[0;34m\u001b[0m\u001b[0m\n\u001b[1;32m     28\u001b[0m         \u001b[0;32mfor\u001b[0m \u001b[0mblock\u001b[0m\u001b[0;34m,\u001b[0m \u001b[0mshortcut\u001b[0m \u001b[0;32min\u001b[0m \u001b[0mzip\u001b[0m\u001b[0;34m(\u001b[0m\u001b[0mself\u001b[0m\u001b[0;34m.\u001b[0m\u001b[0mblocks\u001b[0m\u001b[0;34m,\u001b[0m \u001b[0mself\u001b[0m\u001b[0;34m.\u001b[0m\u001b[0mshortcuts\u001b[0m\u001b[0;34m)\u001b[0m\u001b[0;34m:\u001b[0m\u001b[0;34m\u001b[0m\u001b[0;34m\u001b[0m\u001b[0m\n\u001b[0;32m---> 29\u001b[0;31m             \u001b[0mx\u001b[0m \u001b[0;34m=\u001b[0m \u001b[0mshortcut\u001b[0m\u001b[0;34m(\u001b[0m\u001b[0mx\u001b[0m\u001b[0;34m)\u001b[0m \u001b[0;34m+\u001b[0m \u001b[0mblock\u001b[0m\u001b[0;34m(\u001b[0m\u001b[0mx\u001b[0m\u001b[0;34m)\u001b[0m\u001b[0;34m\u001b[0m\u001b[0;34m\u001b[0m\u001b[0m\n\u001b[0m\u001b[1;32m     30\u001b[0m         \u001b[0;32mreturn\u001b[0m \u001b[0mx\u001b[0m\u001b[0;34m\u001b[0m\u001b[0;34m\u001b[0m\u001b[0m\n\u001b[1;32m     31\u001b[0m \u001b[0;34m\u001b[0m\u001b[0m\n",
            "\u001b[0;32m/usr/local/lib/python3.11/dist-packages/torch/nn/modules/module.py\u001b[0m in \u001b[0;36m_wrapped_call_impl\u001b[0;34m(self, *args, **kwargs)\u001b[0m\n\u001b[1;32m   1737\u001b[0m             \u001b[0;32mreturn\u001b[0m \u001b[0mself\u001b[0m\u001b[0;34m.\u001b[0m\u001b[0m_compiled_call_impl\u001b[0m\u001b[0;34m(\u001b[0m\u001b[0;34m*\u001b[0m\u001b[0margs\u001b[0m\u001b[0;34m,\u001b[0m \u001b[0;34m**\u001b[0m\u001b[0mkwargs\u001b[0m\u001b[0;34m)\u001b[0m  \u001b[0;31m# type: ignore[misc]\u001b[0m\u001b[0;34m\u001b[0m\u001b[0;34m\u001b[0m\u001b[0m\n\u001b[1;32m   1738\u001b[0m         \u001b[0;32melse\u001b[0m\u001b[0;34m:\u001b[0m\u001b[0;34m\u001b[0m\u001b[0;34m\u001b[0m\u001b[0m\n\u001b[0;32m-> 1739\u001b[0;31m             \u001b[0;32mreturn\u001b[0m \u001b[0mself\u001b[0m\u001b[0;34m.\u001b[0m\u001b[0m_call_impl\u001b[0m\u001b[0;34m(\u001b[0m\u001b[0;34m*\u001b[0m\u001b[0margs\u001b[0m\u001b[0;34m,\u001b[0m \u001b[0;34m**\u001b[0m\u001b[0mkwargs\u001b[0m\u001b[0;34m)\u001b[0m\u001b[0;34m\u001b[0m\u001b[0;34m\u001b[0m\u001b[0m\n\u001b[0m\u001b[1;32m   1740\u001b[0m \u001b[0;34m\u001b[0m\u001b[0m\n\u001b[1;32m   1741\u001b[0m     \u001b[0;31m# torchrec tests the code consistency with the following code\u001b[0m\u001b[0;34m\u001b[0m\u001b[0;34m\u001b[0m\u001b[0m\n",
            "\u001b[0;32m/usr/local/lib/python3.11/dist-packages/torch/nn/modules/module.py\u001b[0m in \u001b[0;36m_call_impl\u001b[0;34m(self, *args, **kwargs)\u001b[0m\n\u001b[1;32m   1748\u001b[0m                 \u001b[0;32mor\u001b[0m \u001b[0m_global_backward_pre_hooks\u001b[0m \u001b[0;32mor\u001b[0m \u001b[0m_global_backward_hooks\u001b[0m\u001b[0;34m\u001b[0m\u001b[0;34m\u001b[0m\u001b[0m\n\u001b[1;32m   1749\u001b[0m                 or _global_forward_hooks or _global_forward_pre_hooks):\n\u001b[0;32m-> 1750\u001b[0;31m             \u001b[0;32mreturn\u001b[0m \u001b[0mforward_call\u001b[0m\u001b[0;34m(\u001b[0m\u001b[0;34m*\u001b[0m\u001b[0margs\u001b[0m\u001b[0;34m,\u001b[0m \u001b[0;34m**\u001b[0m\u001b[0mkwargs\u001b[0m\u001b[0;34m)\u001b[0m\u001b[0;34m\u001b[0m\u001b[0;34m\u001b[0m\u001b[0m\n\u001b[0m\u001b[1;32m   1751\u001b[0m \u001b[0;34m\u001b[0m\u001b[0m\n\u001b[1;32m   1752\u001b[0m         \u001b[0mresult\u001b[0m \u001b[0;34m=\u001b[0m \u001b[0;32mNone\u001b[0m\u001b[0;34m\u001b[0m\u001b[0;34m\u001b[0m\u001b[0m\n",
            "\u001b[0;32m/usr/local/lib/python3.11/dist-packages/torch/nn/modules/container.py\u001b[0m in \u001b[0;36mforward\u001b[0;34m(self, input)\u001b[0m\n\u001b[1;32m    248\u001b[0m     \u001b[0;32mdef\u001b[0m \u001b[0mforward\u001b[0m\u001b[0;34m(\u001b[0m\u001b[0mself\u001b[0m\u001b[0;34m,\u001b[0m \u001b[0minput\u001b[0m\u001b[0;34m)\u001b[0m\u001b[0;34m:\u001b[0m\u001b[0;34m\u001b[0m\u001b[0;34m\u001b[0m\u001b[0m\n\u001b[1;32m    249\u001b[0m         \u001b[0;32mfor\u001b[0m \u001b[0mmodule\u001b[0m \u001b[0;32min\u001b[0m \u001b[0mself\u001b[0m\u001b[0;34m:\u001b[0m\u001b[0;34m\u001b[0m\u001b[0;34m\u001b[0m\u001b[0m\n\u001b[0;32m--> 250\u001b[0;31m             \u001b[0minput\u001b[0m \u001b[0;34m=\u001b[0m \u001b[0mmodule\u001b[0m\u001b[0;34m(\u001b[0m\u001b[0minput\u001b[0m\u001b[0;34m)\u001b[0m\u001b[0;34m\u001b[0m\u001b[0;34m\u001b[0m\u001b[0m\n\u001b[0m\u001b[1;32m    251\u001b[0m         \u001b[0;32mreturn\u001b[0m \u001b[0minput\u001b[0m\u001b[0;34m\u001b[0m\u001b[0;34m\u001b[0m\u001b[0m\n\u001b[1;32m    252\u001b[0m \u001b[0;34m\u001b[0m\u001b[0m\n",
            "\u001b[0;32m/usr/local/lib/python3.11/dist-packages/torch/nn/modules/module.py\u001b[0m in \u001b[0;36m_wrapped_call_impl\u001b[0;34m(self, *args, **kwargs)\u001b[0m\n\u001b[1;32m   1737\u001b[0m             \u001b[0;32mreturn\u001b[0m \u001b[0mself\u001b[0m\u001b[0;34m.\u001b[0m\u001b[0m_compiled_call_impl\u001b[0m\u001b[0;34m(\u001b[0m\u001b[0;34m*\u001b[0m\u001b[0margs\u001b[0m\u001b[0;34m,\u001b[0m \u001b[0;34m**\u001b[0m\u001b[0mkwargs\u001b[0m\u001b[0;34m)\u001b[0m  \u001b[0;31m# type: ignore[misc]\u001b[0m\u001b[0;34m\u001b[0m\u001b[0;34m\u001b[0m\u001b[0m\n\u001b[1;32m   1738\u001b[0m         \u001b[0;32melse\u001b[0m\u001b[0;34m:\u001b[0m\u001b[0;34m\u001b[0m\u001b[0;34m\u001b[0m\u001b[0m\n\u001b[0;32m-> 1739\u001b[0;31m             \u001b[0;32mreturn\u001b[0m \u001b[0mself\u001b[0m\u001b[0;34m.\u001b[0m\u001b[0m_call_impl\u001b[0m\u001b[0;34m(\u001b[0m\u001b[0;34m*\u001b[0m\u001b[0margs\u001b[0m\u001b[0;34m,\u001b[0m \u001b[0;34m**\u001b[0m\u001b[0mkwargs\u001b[0m\u001b[0;34m)\u001b[0m\u001b[0;34m\u001b[0m\u001b[0;34m\u001b[0m\u001b[0m\n\u001b[0m\u001b[1;32m   1740\u001b[0m \u001b[0;34m\u001b[0m\u001b[0m\n\u001b[1;32m   1741\u001b[0m     \u001b[0;31m# torchrec tests the code consistency with the following code\u001b[0m\u001b[0;34m\u001b[0m\u001b[0;34m\u001b[0m\u001b[0m\n",
            "\u001b[0;32m/usr/local/lib/python3.11/dist-packages/torch/nn/modules/module.py\u001b[0m in \u001b[0;36m_call_impl\u001b[0;34m(self, *args, **kwargs)\u001b[0m\n\u001b[1;32m   1748\u001b[0m                 \u001b[0;32mor\u001b[0m \u001b[0m_global_backward_pre_hooks\u001b[0m \u001b[0;32mor\u001b[0m \u001b[0m_global_backward_hooks\u001b[0m\u001b[0;34m\u001b[0m\u001b[0;34m\u001b[0m\u001b[0m\n\u001b[1;32m   1749\u001b[0m                 or _global_forward_hooks or _global_forward_pre_hooks):\n\u001b[0;32m-> 1750\u001b[0;31m             \u001b[0;32mreturn\u001b[0m \u001b[0mforward_call\u001b[0m\u001b[0;34m(\u001b[0m\u001b[0;34m*\u001b[0m\u001b[0margs\u001b[0m\u001b[0;34m,\u001b[0m \u001b[0;34m**\u001b[0m\u001b[0mkwargs\u001b[0m\u001b[0;34m)\u001b[0m\u001b[0;34m\u001b[0m\u001b[0;34m\u001b[0m\u001b[0m\n\u001b[0m\u001b[1;32m   1751\u001b[0m \u001b[0;34m\u001b[0m\u001b[0m\n\u001b[1;32m   1752\u001b[0m         \u001b[0mresult\u001b[0m \u001b[0;34m=\u001b[0m \u001b[0;32mNone\u001b[0m\u001b[0;34m\u001b[0m\u001b[0;34m\u001b[0m\u001b[0m\n",
            "\u001b[0;32m/usr/local/lib/python3.11/dist-packages/torch/nn/modules/conv.py\u001b[0m in \u001b[0;36mforward\u001b[0;34m(self, input)\u001b[0m\n\u001b[1;32m    373\u001b[0m \u001b[0;34m\u001b[0m\u001b[0m\n\u001b[1;32m    374\u001b[0m     \u001b[0;32mdef\u001b[0m \u001b[0mforward\u001b[0m\u001b[0;34m(\u001b[0m\u001b[0mself\u001b[0m\u001b[0;34m,\u001b[0m \u001b[0minput\u001b[0m\u001b[0;34m:\u001b[0m \u001b[0mTensor\u001b[0m\u001b[0;34m)\u001b[0m \u001b[0;34m->\u001b[0m \u001b[0mTensor\u001b[0m\u001b[0;34m:\u001b[0m\u001b[0;34m\u001b[0m\u001b[0;34m\u001b[0m\u001b[0m\n\u001b[0;32m--> 375\u001b[0;31m         \u001b[0;32mreturn\u001b[0m \u001b[0mself\u001b[0m\u001b[0;34m.\u001b[0m\u001b[0m_conv_forward\u001b[0m\u001b[0;34m(\u001b[0m\u001b[0minput\u001b[0m\u001b[0;34m,\u001b[0m \u001b[0mself\u001b[0m\u001b[0;34m.\u001b[0m\u001b[0mweight\u001b[0m\u001b[0;34m,\u001b[0m \u001b[0mself\u001b[0m\u001b[0;34m.\u001b[0m\u001b[0mbias\u001b[0m\u001b[0;34m)\u001b[0m\u001b[0;34m\u001b[0m\u001b[0;34m\u001b[0m\u001b[0m\n\u001b[0m\u001b[1;32m    376\u001b[0m \u001b[0;34m\u001b[0m\u001b[0m\n\u001b[1;32m    377\u001b[0m \u001b[0;34m\u001b[0m\u001b[0m\n",
            "\u001b[0;32m/usr/local/lib/python3.11/dist-packages/torch/nn/modules/conv.py\u001b[0m in \u001b[0;36m_conv_forward\u001b[0;34m(self, input, weight, bias)\u001b[0m\n\u001b[1;32m    368\u001b[0m                 \u001b[0mself\u001b[0m\u001b[0;34m.\u001b[0m\u001b[0mgroups\u001b[0m\u001b[0;34m,\u001b[0m\u001b[0;34m\u001b[0m\u001b[0;34m\u001b[0m\u001b[0m\n\u001b[1;32m    369\u001b[0m             )\n\u001b[0;32m--> 370\u001b[0;31m         return F.conv1d(\n\u001b[0m\u001b[1;32m    371\u001b[0m             \u001b[0minput\u001b[0m\u001b[0;34m,\u001b[0m \u001b[0mweight\u001b[0m\u001b[0;34m,\u001b[0m \u001b[0mbias\u001b[0m\u001b[0;34m,\u001b[0m \u001b[0mself\u001b[0m\u001b[0;34m.\u001b[0m\u001b[0mstride\u001b[0m\u001b[0;34m,\u001b[0m \u001b[0mself\u001b[0m\u001b[0;34m.\u001b[0m\u001b[0mpadding\u001b[0m\u001b[0;34m,\u001b[0m \u001b[0mself\u001b[0m\u001b[0;34m.\u001b[0m\u001b[0mdilation\u001b[0m\u001b[0;34m,\u001b[0m \u001b[0mself\u001b[0m\u001b[0;34m.\u001b[0m\u001b[0mgroups\u001b[0m\u001b[0;34m\u001b[0m\u001b[0;34m\u001b[0m\u001b[0m\n\u001b[1;32m    372\u001b[0m         )\n",
            "\u001b[0;31mKeyboardInterrupt\u001b[0m: "
          ]
        }
      ]
    },
    {
      "cell_type": "code",
      "source": [
        "import matplotlib.pyplot as plt\n",
        "plt.imshow(mel.numpy(), aspect='auto', origin='lower'); plt.colorbar(); plt.title(\"Mel spectrogram\"); plt.show()"
      ],
      "metadata": {
        "colab": {
          "base_uri": "https://localhost:8080/",
          "height": 452
        },
        "id": "q2WJqxVJcyho",
        "outputId": "f8650afe-a1cf-4fe0-c234-f5a834f83648"
      },
      "execution_count": 77,
      "outputs": [
        {
          "output_type": "display_data",
          "data": {
            "text/plain": [
              "<Figure size 640x480 with 2 Axes>"
            ],
            "image/png": "[encoded data removed]"
          },
          "metadata": {}
        }
      ]
    },
    {
      "cell_type": "code",
      "source": [
        "#Kiểm tra min/max của mel có đạt -4 / 4 hay không\n",
        "print(\"Mel min/max:\", mel.min().item(), mel.max().item())\n"
      ],
      "metadata": {
        "colab": {
          "base_uri": "https://localhost:8080/"
        },
        "id": "00NQ6DBIBwyq",
        "outputId": "4aec3e72-187e-4230-eea5-cf13276e953e"
      },
      "execution_count": 91,
      "outputs": [
        {
          "output_type": "stream",
          "name": "stdout",
          "text": [
            "Mel min/max: -12.0 4.0\n"
          ]
        }
      ]
    },
    {
      "cell_type": "code",
      "source": [
        "text = \"Hello\"\n",
        "\n",
        "# Text → ID\n",
        "text_tensor = text_to_sequence(text.lower(), char2id).unsqueeze(0).cuda()\n",
        "\n",
        "# TTS → Mel\n",
        "with torch.no_grad():\n",
        "    mel, _ = model(text_tensor)\n",
        "\n",
        "# Chuẩn hóa Mel\n",
        "mel = mel.squeeze(0).cpu()\n",
        "mel = (mel - 0.5) * 8.0\n",
        "\n",
        "# Mel → Audio\n",
        "with torch.no_grad():\n",
        "    audio = melgan.inference(mel.unsqueeze(0)).cpu()\n",
        "\n",
        "# Reshape audio to (channels, samples) if needed\n",
        "if audio.dim() == 1:\n",
        "    audio = audio.unsqueeze(0)  # Add a channel dimension\n",
        "\n",
        "# Ensure audio data type is float32 and within the range of -1 to 1\n",
        "audio = audio.type(torch.float32)\n",
        "audio = torch.clamp(audio, -1, 1)\n",
        "\n",
        "# Lưu file\n",
        "torchaudio.save(\"tts_test_output.wav\", audio, sample_rate=22050)\n",
        "print(\"Đã tạo file: tts_test_output.wav\")"
      ],
      "metadata": {
        "colab": {
          "base_uri": "https://localhost:8080/"
        },
        "id": "YvPlsBYcZzFm",
        "outputId": "df0ac5d6-9151-48a3-b4c8-2de8a00ee4c4"
      },
      "execution_count": 54,
      "outputs": [
        {
          "output_type": "stream",
          "name": "stdout",
          "text": [
            "Đã tạo file: tts_test_output.wav\n"
          ]
        }
      ]
    }
  ]
}